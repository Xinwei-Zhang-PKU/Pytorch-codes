{
 "cells": [
  {
   "cell_type": "code",
   "execution_count": 3,
   "outputs": [],
   "source": [
    "import torch\n",
    "import torchvision\n",
    "from torchvision.transforms import ToTensor, Normalize, Compose\n",
    "from torchvision.datasets import MNIST\n",
    "\n",
    "mnist = MNIST(root='data',\n",
    "              train=True,\n",
    "              download=True,\n",
    "              transform=Compose([ToTensor(), Normalize(mean=(0.5,), std=(0.5,))]))"
   ],
   "metadata": {
    "collapsed": false,
    "pycharm": {
     "name": "#%%\n"
    }
   }
  },
  {
   "cell_type": "code",
   "execution_count": 4,
   "outputs": [
    {
     "name": "stdout",
     "output_type": "stream",
     "text": [
      "Label:  5\n",
      "tensor([[[-0.9922,  0.2078,  0.9843, -0.2941, -1.0000],\n",
      "         [-1.0000,  0.0902,  0.9843,  0.4902, -0.9843],\n",
      "         [-1.0000, -0.9137,  0.4902,  0.9843, -0.4510],\n",
      "         [-1.0000, -1.0000, -0.7255,  0.8902,  0.7647],\n",
      "         [-1.0000, -1.0000, -1.0000, -0.3647,  0.8824]]])\n"
     ]
    },
    {
     "data": {
      "text/plain": "(tensor(-1.), tensor(1.))"
     },
     "execution_count": 4,
     "metadata": {},
     "output_type": "execute_result"
    }
   ],
   "source": [
    "img, label = mnist[0]\n",
    "print('Label: ', label)\n",
    "print(img[:, 10:15, 10:15])\n",
    "torch.min(img), torch.max(img)"
   ],
   "metadata": {
    "collapsed": false,
    "pycharm": {
     "name": "#%%\n"
    }
   }
  },
  {
   "cell_type": "code",
   "execution_count": 5,
   "outputs": [],
   "source": [
    "def denorm(x):\n",
    "    out = (x + 1) / 2\n",
    "    return out.clamp(0, 1)"
   ],
   "metadata": {
    "collapsed": false,
    "pycharm": {
     "name": "#%%\n"
    }
   }
  },
  {
   "cell_type": "code",
   "execution_count": 6,
   "outputs": [
    {
     "name": "stdout",
     "output_type": "stream",
     "text": [
      "Label: 5\n"
     ]
    },
    {
     "data": {
      "text/plain": "<Figure size 432x288 with 1 Axes>",
      "image/png": "[encoded data removed]"
     },
     "metadata": {
      "needs_background": "light"
     },
     "output_type": "display_data"
    }
   ],
   "source": [
    "import matplotlib.pyplot as plt\n",
    "%matplotlib inline\n",
    "\n",
    "img_norm = denorm(img)\n",
    "plt.imshow(img_norm[0], cmap='gray')\n",
    "print('Label:', label)"
   ],
   "metadata": {
    "collapsed": false,
    "pycharm": {
     "name": "#%%\n"
    }
   }
  },
  {
   "cell_type": "code",
   "execution_count": 7,
   "outputs": [],
   "source": [
    "from torch.utils.data import DataLoader\n",
    "\n",
    "batch_size = 100\n",
    "data_loader = DataLoader(mnist, batch_size, shuffle=True)"
   ],
   "metadata": {
    "collapsed": false,
    "pycharm": {
     "name": "#%%\n"
    }
   }
  },
  {
   "cell_type": "code",
   "execution_count": 9,
   "outputs": [
    {
     "name": "stdout",
     "output_type": "stream",
     "text": [
      "first batch\n",
      "torch.Size([100, 1, 28, 28])\n",
      "tensor([9, 9, 0, 4, 0, 6, 9, 1, 6, 5, 8, 7, 0, 3, 4, 0, 2, 0, 3, 0, 8, 6, 8, 7,\n",
      "        5, 5, 4, 8, 9, 4, 5, 0, 5, 3, 8, 5, 8, 3, 9, 0, 0, 8, 9, 3, 1, 9, 6, 7,\n",
      "        7, 2, 9, 7, 6, 7, 5, 4, 7, 1, 6, 4, 2, 4, 2, 1, 7, 5, 9, 7, 8, 8, 7, 8,\n",
      "        3, 2, 9, 7, 2, 1, 1, 3, 2, 4, 7, 5, 2, 3, 3, 7, 3, 6, 1, 4, 9, 2, 0, 1,\n",
      "        0, 7, 7, 2])\n"
     ]
    },
    {
     "data": {
      "text/plain": "<Figure size 432x288 with 1 Axes>",
      "image/png": "[encoded data removed]"
     },
     "metadata": {
      "needs_background": "light"
     },
     "output_type": "display_data"
    }
   ],
   "source": [
    "for img_batch, label_batch in data_loader:\n",
    "    print('first batch')\n",
    "    print(img_batch.shape)\n",
    "    plt.imshow(img_batch[0][0], cmap='gray')\n",
    "    print(label_batch)\n",
    "    break"
   ],
   "metadata": {
    "collapsed": false,
    "pycharm": {
     "name": "#%%\n"
    }
   }
  },
  {
   "cell_type": "code",
   "execution_count": 10,
   "outputs": [
    {
     "data": {
      "text/plain": "device(type='mps')"
     },
     "execution_count": 10,
     "metadata": {},
     "output_type": "execute_result"
    }
   ],
   "source": [
    "# Device configuration\n",
    "device = torch.device('mps' if torch.has_mps else 'cpu')\n",
    "device"
   ],
   "metadata": {
    "collapsed": false,
    "pycharm": {
     "name": "#%%\n"
    }
   }
  },
  {
   "cell_type": "code",
   "execution_count": 11,
   "outputs": [],
   "source": [
    "image_size = 784\n",
    "hidden_size = 256"
   ],
   "metadata": {
    "collapsed": false,
    "pycharm": {
     "name": "#%%\n"
    }
   }
  },
  {
   "cell_type": "code",
   "execution_count": 12,
   "outputs": [],
   "source": [
    "import torch.nn as nn\n",
    "\n",
    "D = nn.Sequential(\n",
    "    nn.Linear(image_size, hidden_size),\n",
    "    nn.LeakyReLU(0.2),\n",
    "    nn.Linear(hidden_size, hidden_size),\n",
    "    nn.LeakyReLU(0.2),\n",
    "    nn.Linear(hidden_size, 1),\n",
    "    nn.Sigmoid())"
   ],
   "metadata": {
    "collapsed": false,
    "pycharm": {
     "name": "#%%\n"
    }
   }
  },
  {
   "cell_type": "code",
   "execution_count": 13,
   "outputs": [],
   "source": [
    "D.to(device);"
   ],
   "metadata": {
    "collapsed": false,
    "pycharm": {
     "name": "#%%\n"
    }
   }
  },
  {
   "cell_type": "code",
   "execution_count": 14,
   "outputs": [],
   "source": [
    "latent_size = 64"
   ],
   "metadata": {
    "collapsed": false,
    "pycharm": {
     "name": "#%%\n"
    }
   }
  },
  {
   "cell_type": "code",
   "execution_count": 15,
   "outputs": [],
   "source": [
    "G = nn.Sequential(\n",
    "    nn.Linear(latent_size, hidden_size),\n",
    "    nn.ReLU(),\n",
    "    nn.Linear(hidden_size, hidden_size),\n",
    "    nn.ReLU(),\n",
    "    nn.Linear(hidden_size, image_size),\n",
    "    nn.Tanh())"
   ],
   "metadata": {
    "collapsed": false,
    "pycharm": {
     "name": "#%%\n"
    }
   }
  },
  {
   "cell_type": "code",
   "execution_count": 16,
   "outputs": [],
   "source": [
    "y = G(torch.randn(2, latent_size))\n",
    "gen_imgs = denorm(y.reshape((-1, 28, 28)).detach())"
   ],
   "metadata": {
    "collapsed": false,
    "pycharm": {
     "name": "#%%\n"
    }
   }
  },
  {
   "cell_type": "code",
   "execution_count": 17,
   "outputs": [
    {
     "data": {
      "text/plain": "<Figure size 432x288 with 1 Axes>",
      "image/png": "[encoded data removed]"
     },
     "metadata": {
      "needs_background": "light"
     },
     "output_type": "display_data"
    }
   ],
   "source": [
    "plt.imshow(gen_imgs[0], cmap='gray');"
   ],
   "metadata": {
    "collapsed": false,
    "pycharm": {
     "name": "#%%\n"
    }
   }
  },
  {
   "cell_type": "code",
   "execution_count": 18,
   "outputs": [
    {
     "data": {
      "text/plain": "<Figure size 432x288 with 1 Axes>",
      "image/png": "[encoded data removed]"
     },
     "metadata": {
      "needs_background": "light"
     },
     "output_type": "display_data"
    }
   ],
   "source": [
    "plt.imshow(gen_imgs[1], cmap='gray');"
   ],
   "metadata": {
    "collapsed": false,
    "pycharm": {
     "name": "#%%\n"
    }
   }
  },
  {
   "cell_type": "code",
   "execution_count": 19,
   "outputs": [],
   "source": [
    "G.to(device);"
   ],
   "metadata": {
    "collapsed": false,
    "pycharm": {
     "name": "#%%\n"
    }
   }
  },
  {
   "cell_type": "code",
   "execution_count": 20,
   "outputs": [],
   "source": [
    "criterion = nn.BCELoss()\n",
    "d_optimizer = torch.optim.Adam(D.parameters(), lr=0.0002)\n",
    "g_optimizer = torch.optim.Adam(G.parameters(), lr=0.0002)"
   ],
   "metadata": {
    "collapsed": false,
    "pycharm": {
     "name": "#%%\n"
    }
   }
  },
  {
   "cell_type": "code",
   "execution_count": 21,
   "outputs": [],
   "source": [
    "def reset_grad():\n",
    "    d_optimizer.zero_grad()\n",
    "    g_optimizer.zero_grad()\n",
    "\n",
    "def train_discriminator(images):\n",
    "    # Create the labels which are later used as input for the BCE loss\n",
    "    real_labels = torch.ones(batch_size, 1).to(device)\n",
    "    fake_labels = torch.zeros(batch_size, 1).to(device)\n",
    "\n",
    "    # Loss for real images\n",
    "    outputs = D(images)\n",
    "    d_loss_real = criterion(outputs, real_labels)\n",
    "    real_score = outputs\n",
    "\n",
    "    # Loss for fake images\n",
    "    z = torch.randn(batch_size, latent_size).to(device)\n",
    "    fake_images = G(z)\n",
    "    outputs = D(fake_images)\n",
    "    d_loss_fake = criterion(outputs, fake_labels)\n",
    "    fake_score = outputs\n",
    "\n",
    "    # Combine losses\n",
    "    d_loss = d_loss_real + d_loss_fake\n",
    "    # Reset gradients\n",
    "    reset_grad()\n",
    "    # Compute gradients\n",
    "    d_loss.backward()\n",
    "    # Adjust the parameters using backprop\n",
    "    d_optimizer.step()\n",
    "\n",
    "    return d_loss, real_score, fake_score"
   ],
   "metadata": {
    "collapsed": false,
    "pycharm": {
     "name": "#%%\n"
    }
   }
  },
  {
   "cell_type": "code",
   "execution_count": 22,
   "outputs": [],
   "source": [
    "def train_generator():\n",
    "    # Generate fake images and calculate loss\n",
    "    z = torch.randn(batch_size, latent_size).to(device)\n",
    "    fake_images = G(z)\n",
    "    labels = torch.ones(batch_size, 1).to(device)\n",
    "    g_loss = criterion(D(fake_images), labels)\n",
    "\n",
    "    # Backprop and optimize\n",
    "    reset_grad()\n",
    "    g_loss.backward()\n",
    "    g_optimizer.step()\n",
    "    return g_loss, fake_images"
   ],
   "metadata": {
    "collapsed": false,
    "pycharm": {
     "name": "#%%\n"
    }
   }
  },
  {
   "cell_type": "code",
   "execution_count": 23,
   "outputs": [],
   "source": [
    "import os\n",
    "\n",
    "sample_dir = 'samples'\n",
    "if not os.path.exists(sample_dir):\n",
    "    os.makedirs(sample_dir)"
   ],
   "metadata": {
    "collapsed": false,
    "pycharm": {
     "name": "#%%\n"
    }
   }
  },
  {
   "cell_type": "code",
   "execution_count": 24,
   "outputs": [
    {
     "data": {
      "image/png": "[encoded data removed]",
      "text/plain": "<IPython.core.display.Image object>"
     },
     "execution_count": 24,
     "metadata": {},
     "output_type": "execute_result"
    }
   ],
   "source": [
    "from IPython.display import Image\n",
    "from torchvision.utils import save_image\n",
    "\n",
    "# Save some real images\n",
    "for images, _ in data_loader:\n",
    "    images = images.reshape(images.size(0), 1, 28, 28)\n",
    "    save_image(denorm(images), os.path.join(sample_dir, 'real_images.png'), nrow=10)\n",
    "    break\n",
    "\n",
    "Image(os.path.join(sample_dir, 'real_images.png'))"
   ],
   "metadata": {
    "collapsed": false,
    "pycharm": {
     "name": "#%%\n"
    }
   }
  },
  {
   "cell_type": "code",
   "execution_count": 26,
   "outputs": [
    {
     "name": "stdout",
     "output_type": "stream",
     "text": [
      "Saving fake_images-0000.png\n"
     ]
    },
    {
     "data": {
      "image/png": "[encoded data removed]",
      "text/plain": "<IPython.core.display.Image object>"
     },
     "execution_count": 26,
     "metadata": {},
     "output_type": "execute_result"
    }
   ],
   "source": [
    "sample_vectors = torch.randn(batch_size, latent_size).to(device)\n",
    "\n",
    "def save_fake_images(index):\n",
    "    fake_images = G(sample_vectors)\n",
    "    fake_images = fake_images.reshape(fake_images.size(0), 1, 28, 28)\n",
    "    fake_fname = 'fake_images-{0:0=4d}.png'.format(index)\n",
    "    print('Saving', fake_fname)\n",
    "    save_image(denorm(fake_images), os.path.join(sample_dir, fake_fname), nrow=10)\n",
    "\n",
    "# Before training\n",
    "save_fake_images(0)\n",
    "Image(os.path.join(sample_dir, 'fake_images-0000.png'))"
   ],
   "metadata": {
    "collapsed": false,
    "pycharm": {
     "name": "#%%\n"
    }
   }
  },
  {
   "cell_type": "code",
   "execution_count": 23,
   "outputs": [
    {
     "name": "stdout",
     "output_type": "stream",
     "text": [
      "Epoch [4/300], Step [200/600], d_loss: 0.4720, g_loss: 2.8334, D(x): 0.88, D(G(z)): 0.19\n",
      "Epoch [4/300], Step [400/600], d_loss: 0.9565, g_loss: 4.0405, D(x): 0.69, D(G(z)): 0.06\n",
      "Epoch [4/300], Step [600/600], d_loss: 0.5865, g_loss: 3.4546, D(x): 0.87, D(G(z)): 0.25\n",
      "Saving fake_images-0005.png\n",
      "Epoch [5/300], Step [200/600], d_loss: 0.1947, g_loss: 2.6645, D(x): 0.96, D(G(z)): 0.12\n",
      "Epoch [5/300], Step [400/600], d_loss: 0.0666, g_loss: 5.0054, D(x): 0.98, D(G(z)): 0.05\n",
      "Epoch [5/300], Step [600/600], d_loss: 0.1041, g_loss: 4.0155, D(x): 0.96, D(G(z)): 0.03\n",
      "Saving fake_images-0006.png\n",
      "Epoch [6/300], Step [200/600], d_loss: 0.3116, g_loss: 3.0885, D(x): 0.91, D(G(z)): 0.09\n",
      "Epoch [6/300], Step [400/600], d_loss: 0.3216, g_loss: 3.0920, D(x): 0.94, D(G(z)): 0.16\n",
      "Epoch [6/300], Step [600/600], d_loss: 0.1429, g_loss: 3.8584, D(x): 0.99, D(G(z)): 0.12\n",
      "Saving fake_images-0007.png\n",
      "Epoch [7/300], Step [200/600], d_loss: 0.3280, g_loss: 4.9091, D(x): 0.88, D(G(z)): 0.04\n",
      "Epoch [7/300], Step [400/600], d_loss: 0.0827, g_loss: 3.7640, D(x): 0.97, D(G(z)): 0.04\n",
      "Epoch [7/300], Step [600/600], d_loss: 0.3930, g_loss: 6.3841, D(x): 0.86, D(G(z)): 0.02\n",
      "Saving fake_images-0008.png\n",
      "Epoch [8/300], Step [200/600], d_loss: 0.2125, g_loss: 4.7504, D(x): 0.93, D(G(z)): 0.03\n",
      "Epoch [8/300], Step [400/600], d_loss: 0.2493, g_loss: 5.7157, D(x): 0.93, D(G(z)): 0.05\n",
      "Epoch [8/300], Step [600/600], d_loss: 0.3419, g_loss: 3.6863, D(x): 0.91, D(G(z)): 0.06\n",
      "Saving fake_images-0009.png\n",
      "Epoch [9/300], Step [200/600], d_loss: 0.4539, g_loss: 5.0245, D(x): 0.88, D(G(z)): 0.04\n",
      "Epoch [9/300], Step [400/600], d_loss: 0.0528, g_loss: 6.8924, D(x): 0.98, D(G(z)): 0.02\n",
      "Epoch [9/300], Step [600/600], d_loss: 0.1231, g_loss: 5.4302, D(x): 0.95, D(G(z)): 0.02\n",
      "Saving fake_images-0010.png\n",
      "Epoch [10/300], Step [200/600], d_loss: 0.0922, g_loss: 6.8725, D(x): 0.98, D(G(z)): 0.04\n",
      "Epoch [10/300], Step [400/600], d_loss: 0.2794, g_loss: 3.2604, D(x): 0.89, D(G(z)): 0.02\n",
      "Epoch [10/300], Step [600/600], d_loss: 0.1554, g_loss: 4.1584, D(x): 0.95, D(G(z)): 0.07\n",
      "Saving fake_images-0011.png\n",
      "Epoch [11/300], Step [200/600], d_loss: 0.3404, g_loss: 4.6190, D(x): 0.96, D(G(z)): 0.17\n",
      "Epoch [11/300], Step [400/600], d_loss: 0.1316, g_loss: 5.6629, D(x): 0.96, D(G(z)): 0.03\n",
      "Epoch [11/300], Step [600/600], d_loss: 0.1659, g_loss: 4.2383, D(x): 0.96, D(G(z)): 0.08\n",
      "Saving fake_images-0012.png\n",
      "Epoch [12/300], Step [200/600], d_loss: 0.2363, g_loss: 4.6464, D(x): 0.95, D(G(z)): 0.10\n",
      "Epoch [12/300], Step [400/600], d_loss: 0.5897, g_loss: 2.9127, D(x): 0.81, D(G(z)): 0.08\n",
      "Epoch [12/300], Step [600/600], d_loss: 0.3148, g_loss: 3.6827, D(x): 0.89, D(G(z)): 0.02\n",
      "Saving fake_images-0013.png\n",
      "Epoch [13/300], Step [200/600], d_loss: 0.1726, g_loss: 3.2389, D(x): 0.92, D(G(z)): 0.05\n",
      "Epoch [13/300], Step [400/600], d_loss: 0.4244, g_loss: 3.8872, D(x): 0.91, D(G(z)): 0.16\n",
      "Epoch [13/300], Step [600/600], d_loss: 0.4001, g_loss: 4.4733, D(x): 0.90, D(G(z)): 0.05\n",
      "Saving fake_images-0014.png\n",
      "Epoch [14/300], Step [200/600], d_loss: 0.2156, g_loss: 5.2617, D(x): 0.94, D(G(z)): 0.08\n",
      "Epoch [14/300], Step [400/600], d_loss: 0.2702, g_loss: 5.2358, D(x): 0.91, D(G(z)): 0.05\n",
      "Epoch [14/300], Step [600/600], d_loss: 0.4203, g_loss: 3.7690, D(x): 0.89, D(G(z)): 0.13\n",
      "Saving fake_images-0015.png\n",
      "Epoch [15/300], Step [200/600], d_loss: 0.2018, g_loss: 4.1209, D(x): 0.94, D(G(z)): 0.06\n",
      "Epoch [15/300], Step [400/600], d_loss: 0.1478, g_loss: 4.7179, D(x): 0.93, D(G(z)): 0.03\n",
      "Epoch [15/300], Step [600/600], d_loss: 0.3925, g_loss: 4.2416, D(x): 0.90, D(G(z)): 0.02\n",
      "Saving fake_images-0016.png\n",
      "Epoch [16/300], Step [200/600], d_loss: 0.2313, g_loss: 4.8661, D(x): 0.94, D(G(z)): 0.09\n",
      "Epoch [16/300], Step [400/600], d_loss: 0.2861, g_loss: 4.3101, D(x): 0.94, D(G(z)): 0.13\n",
      "Epoch [16/300], Step [600/600], d_loss: 0.2278, g_loss: 6.7365, D(x): 0.91, D(G(z)): 0.01\n",
      "Saving fake_images-0017.png\n",
      "Epoch [17/300], Step [200/600], d_loss: 0.2842, g_loss: 5.0850, D(x): 0.96, D(G(z)): 0.14\n",
      "Epoch [17/300], Step [400/600], d_loss: 0.1004, g_loss: 5.7217, D(x): 0.98, D(G(z)): 0.06\n",
      "Epoch [17/300], Step [600/600], d_loss: 0.4583, g_loss: 4.3419, D(x): 0.86, D(G(z)): 0.06\n",
      "Saving fake_images-0018.png\n",
      "Epoch [18/300], Step [200/600], d_loss: 0.3773, g_loss: 4.9704, D(x): 0.91, D(G(z)): 0.10\n",
      "Epoch [18/300], Step [400/600], d_loss: 0.5520, g_loss: 4.0064, D(x): 0.92, D(G(z)): 0.27\n",
      "Epoch [18/300], Step [600/600], d_loss: 0.1545, g_loss: 4.0763, D(x): 0.96, D(G(z)): 0.06\n",
      "Saving fake_images-0019.png\n",
      "Epoch [19/300], Step [200/600], d_loss: 0.4631, g_loss: 4.7082, D(x): 0.82, D(G(z)): 0.01\n",
      "Epoch [19/300], Step [400/600], d_loss: 0.2092, g_loss: 3.9270, D(x): 0.91, D(G(z)): 0.05\n",
      "Epoch [19/300], Step [600/600], d_loss: 0.2957, g_loss: 4.2149, D(x): 0.87, D(G(z)): 0.03\n",
      "Saving fake_images-0020.png\n",
      "Epoch [20/300], Step [200/600], d_loss: 0.2363, g_loss: 4.5353, D(x): 0.90, D(G(z)): 0.05\n",
      "Epoch [20/300], Step [400/600], d_loss: 0.2324, g_loss: 3.8623, D(x): 0.94, D(G(z)): 0.08\n",
      "Epoch [20/300], Step [600/600], d_loss: 0.2186, g_loss: 5.3112, D(x): 0.93, D(G(z)): 0.07\n",
      "Saving fake_images-0021.png\n",
      "Epoch [21/300], Step [200/600], d_loss: 0.2654, g_loss: 4.8723, D(x): 0.92, D(G(z)): 0.07\n",
      "Epoch [21/300], Step [400/600], d_loss: 0.3090, g_loss: 4.0798, D(x): 0.89, D(G(z)): 0.06\n",
      "Epoch [21/300], Step [600/600], d_loss: 0.2857, g_loss: 3.7369, D(x): 0.90, D(G(z)): 0.03\n",
      "Saving fake_images-0022.png\n",
      "Epoch [22/300], Step [200/600], d_loss: 0.2383, g_loss: 3.6547, D(x): 0.91, D(G(z)): 0.02\n",
      "Epoch [22/300], Step [400/600], d_loss: 0.1963, g_loss: 4.8866, D(x): 0.94, D(G(z)): 0.09\n",
      "Epoch [22/300], Step [600/600], d_loss: 0.2889, g_loss: 4.1935, D(x): 0.89, D(G(z)): 0.04\n",
      "Saving fake_images-0023.png\n",
      "Epoch [23/300], Step [200/600], d_loss: 0.1566, g_loss: 4.5577, D(x): 0.93, D(G(z)): 0.02\n",
      "Epoch [23/300], Step [400/600], d_loss: 0.4334, g_loss: 3.0996, D(x): 0.91, D(G(z)): 0.17\n",
      "Epoch [23/300], Step [600/600], d_loss: 0.2312, g_loss: 3.8501, D(x): 0.96, D(G(z)): 0.10\n",
      "Saving fake_images-0024.png\n",
      "Epoch [24/300], Step [200/600], d_loss: 0.3169, g_loss: 4.5739, D(x): 0.88, D(G(z)): 0.05\n",
      "Epoch [24/300], Step [400/600], d_loss: 0.3997, g_loss: 4.0324, D(x): 0.88, D(G(z)): 0.08\n",
      "Epoch [24/300], Step [600/600], d_loss: 0.2831, g_loss: 4.1290, D(x): 0.90, D(G(z)): 0.11\n",
      "Saving fake_images-0025.png\n",
      "Epoch [25/300], Step [200/600], d_loss: 0.2557, g_loss: 4.6659, D(x): 0.89, D(G(z)): 0.07\n",
      "Epoch [25/300], Step [400/600], d_loss: 0.3283, g_loss: 3.6068, D(x): 0.88, D(G(z)): 0.08\n",
      "Epoch [25/300], Step [600/600], d_loss: 0.3046, g_loss: 4.1164, D(x): 0.93, D(G(z)): 0.13\n",
      "Saving fake_images-0026.png\n",
      "Epoch [26/300], Step [200/600], d_loss: 0.4784, g_loss: 3.5465, D(x): 0.85, D(G(z)): 0.13\n",
      "Epoch [26/300], Step [400/600], d_loss: 0.3246, g_loss: 3.1715, D(x): 0.95, D(G(z)): 0.17\n",
      "Epoch [26/300], Step [600/600], d_loss: 0.2952, g_loss: 2.8945, D(x): 0.89, D(G(z)): 0.09\n",
      "Saving fake_images-0027.png\n",
      "Epoch [27/300], Step [200/600], d_loss: 0.4437, g_loss: 3.2995, D(x): 0.87, D(G(z)): 0.13\n",
      "Epoch [27/300], Step [400/600], d_loss: 0.5646, g_loss: 2.9212, D(x): 0.87, D(G(z)): 0.21\n",
      "Epoch [27/300], Step [600/600], d_loss: 0.4567, g_loss: 3.1768, D(x): 0.88, D(G(z)): 0.15\n",
      "Saving fake_images-0028.png\n",
      "Epoch [28/300], Step [200/600], d_loss: 0.3786, g_loss: 4.0322, D(x): 0.88, D(G(z)): 0.08\n",
      "Epoch [28/300], Step [400/600], d_loss: 0.2798, g_loss: 3.8698, D(x): 0.89, D(G(z)): 0.08\n",
      "Epoch [28/300], Step [600/600], d_loss: 0.2733, g_loss: 4.0262, D(x): 0.93, D(G(z)): 0.12\n",
      "Saving fake_images-0029.png\n",
      "Epoch [29/300], Step [200/600], d_loss: 0.4798, g_loss: 3.2566, D(x): 0.97, D(G(z)): 0.26\n",
      "Epoch [29/300], Step [400/600], d_loss: 0.3388, g_loss: 4.1515, D(x): 0.93, D(G(z)): 0.15\n",
      "Epoch [29/300], Step [600/600], d_loss: 0.1505, g_loss: 4.8028, D(x): 0.96, D(G(z)): 0.08\n",
      "Saving fake_images-0030.png\n",
      "Epoch [30/300], Step [200/600], d_loss: 0.2146, g_loss: 4.0071, D(x): 0.91, D(G(z)): 0.06\n",
      "Epoch [30/300], Step [400/600], d_loss: 0.2849, g_loss: 4.1122, D(x): 0.95, D(G(z)): 0.15\n",
      "Epoch [30/300], Step [600/600], d_loss: 0.2673, g_loss: 4.5210, D(x): 0.91, D(G(z)): 0.07\n",
      "Saving fake_images-0031.png\n",
      "Epoch [31/300], Step [200/600], d_loss: 0.5366, g_loss: 2.3201, D(x): 0.93, D(G(z)): 0.25\n",
      "Epoch [31/300], Step [400/600], d_loss: 0.4431, g_loss: 3.2888, D(x): 0.85, D(G(z)): 0.11\n",
      "Epoch [31/300], Step [600/600], d_loss: 0.2920, g_loss: 3.5610, D(x): 0.92, D(G(z)): 0.13\n",
      "Saving fake_images-0032.png\n",
      "Epoch [32/300], Step [200/600], d_loss: 0.3232, g_loss: 4.1899, D(x): 0.86, D(G(z)): 0.06\n",
      "Epoch [32/300], Step [400/600], d_loss: 0.5621, g_loss: 4.0427, D(x): 0.86, D(G(z)): 0.17\n",
      "Epoch [32/300], Step [600/600], d_loss: 0.4472, g_loss: 3.6898, D(x): 0.86, D(G(z)): 0.09\n",
      "Saving fake_images-0033.png\n",
      "Epoch [33/300], Step [200/600], d_loss: 0.2498, g_loss: 4.4813, D(x): 0.90, D(G(z)): 0.08\n",
      "Epoch [33/300], Step [400/600], d_loss: 0.3580, g_loss: 3.9251, D(x): 0.89, D(G(z)): 0.10\n",
      "Epoch [33/300], Step [600/600], d_loss: 0.4458, g_loss: 2.7343, D(x): 0.93, D(G(z)): 0.24\n",
      "Saving fake_images-0034.png\n",
      "Epoch [34/300], Step [200/600], d_loss: 0.4391, g_loss: 3.3609, D(x): 0.83, D(G(z)): 0.08\n",
      "Epoch [34/300], Step [400/600], d_loss: 0.4682, g_loss: 3.1922, D(x): 0.91, D(G(z)): 0.20\n",
      "Epoch [34/300], Step [600/600], d_loss: 0.3871, g_loss: 2.9845, D(x): 0.85, D(G(z)): 0.09\n",
      "Saving fake_images-0035.png\n",
      "Epoch [35/300], Step [200/600], d_loss: 0.6430, g_loss: 2.9741, D(x): 0.79, D(G(z)): 0.11\n",
      "Epoch [35/300], Step [400/600], d_loss: 0.4929, g_loss: 4.0161, D(x): 0.85, D(G(z)): 0.14\n",
      "Epoch [35/300], Step [600/600], d_loss: 0.6523, g_loss: 3.4695, D(x): 0.74, D(G(z)): 0.08\n",
      "Saving fake_images-0036.png\n",
      "Epoch [36/300], Step [200/600], d_loss: 0.5094, g_loss: 3.2444, D(x): 0.88, D(G(z)): 0.20\n",
      "Epoch [36/300], Step [400/600], d_loss: 0.4025, g_loss: 3.5262, D(x): 0.86, D(G(z)): 0.11\n",
      "Epoch [36/300], Step [600/600], d_loss: 0.5153, g_loss: 3.3743, D(x): 0.90, D(G(z)): 0.21\n",
      "Saving fake_images-0037.png\n",
      "Epoch [37/300], Step [200/600], d_loss: 0.3767, g_loss: 4.2102, D(x): 0.88, D(G(z)): 0.12\n",
      "Epoch [37/300], Step [400/600], d_loss: 0.3733, g_loss: 3.3792, D(x): 0.88, D(G(z)): 0.13\n",
      "Epoch [37/300], Step [600/600], d_loss: 0.5088, g_loss: 3.1376, D(x): 0.94, D(G(z)): 0.25\n",
      "Saving fake_images-0038.png\n",
      "Epoch [38/300], Step [200/600], d_loss: 0.3226, g_loss: 3.8045, D(x): 0.85, D(G(z)): 0.06\n",
      "Epoch [38/300], Step [400/600], d_loss: 0.3413, g_loss: 3.3192, D(x): 0.89, D(G(z)): 0.11\n",
      "Epoch [38/300], Step [600/600], d_loss: 0.4253, g_loss: 3.5301, D(x): 0.91, D(G(z)): 0.19\n",
      "Saving fake_images-0039.png\n",
      "Epoch [39/300], Step [200/600], d_loss: 0.5365, g_loss: 3.7844, D(x): 0.92, D(G(z)): 0.23\n",
      "Epoch [39/300], Step [400/600], d_loss: 0.2802, g_loss: 3.3234, D(x): 0.93, D(G(z)): 0.13\n",
      "Epoch [39/300], Step [600/600], d_loss: 0.4931, g_loss: 3.4077, D(x): 0.92, D(G(z)): 0.21\n",
      "Saving fake_images-0040.png\n",
      "Epoch [40/300], Step [200/600], d_loss: 0.4070, g_loss: 4.4722, D(x): 0.87, D(G(z)): 0.13\n",
      "Epoch [40/300], Step [400/600], d_loss: 0.7155, g_loss: 3.3315, D(x): 0.78, D(G(z)): 0.17\n",
      "Epoch [40/300], Step [600/600], d_loss: 0.5778, g_loss: 3.4897, D(x): 0.85, D(G(z)): 0.13\n",
      "Saving fake_images-0041.png\n",
      "Epoch [41/300], Step [200/600], d_loss: 0.5944, g_loss: 2.8357, D(x): 0.75, D(G(z)): 0.08\n",
      "Epoch [41/300], Step [400/600], d_loss: 0.8295, g_loss: 2.1911, D(x): 0.86, D(G(z)): 0.34\n",
      "Epoch [41/300], Step [600/600], d_loss: 0.3967, g_loss: 3.6075, D(x): 0.86, D(G(z)): 0.14\n",
      "Saving fake_images-0042.png\n",
      "Epoch [42/300], Step [200/600], d_loss: 0.6016, g_loss: 2.5052, D(x): 0.85, D(G(z)): 0.21\n",
      "Epoch [42/300], Step [400/600], d_loss: 0.5616, g_loss: 2.7458, D(x): 0.82, D(G(z)): 0.14\n",
      "Epoch [42/300], Step [600/600], d_loss: 0.4414, g_loss: 1.7868, D(x): 0.87, D(G(z)): 0.17\n",
      "Saving fake_images-0043.png\n",
      "Epoch [43/300], Step [200/600], d_loss: 0.4653, g_loss: 3.0058, D(x): 0.86, D(G(z)): 0.18\n",
      "Epoch [43/300], Step [400/600], d_loss: 0.7098, g_loss: 2.3782, D(x): 0.87, D(G(z)): 0.28\n",
      "Epoch [43/300], Step [600/600], d_loss: 0.5526, g_loss: 3.3695, D(x): 0.83, D(G(z)): 0.15\n",
      "Saving fake_images-0044.png\n",
      "Epoch [44/300], Step [200/600], d_loss: 0.5646, g_loss: 2.4243, D(x): 0.90, D(G(z)): 0.25\n",
      "Epoch [44/300], Step [400/600], d_loss: 0.6718, g_loss: 2.5632, D(x): 0.72, D(G(z)): 0.09\n",
      "Epoch [44/300], Step [600/600], d_loss: 0.5062, g_loss: 2.2650, D(x): 0.80, D(G(z)): 0.11\n",
      "Saving fake_images-0045.png\n",
      "Epoch [45/300], Step [200/600], d_loss: 0.6412, g_loss: 2.3667, D(x): 0.81, D(G(z)): 0.17\n",
      "Epoch [45/300], Step [400/600], d_loss: 0.5794, g_loss: 2.7661, D(x): 0.82, D(G(z)): 0.14\n",
      "Epoch [45/300], Step [600/600], d_loss: 0.8663, g_loss: 2.8618, D(x): 0.71, D(G(z)): 0.17\n",
      "Saving fake_images-0046.png\n",
      "Epoch [46/300], Step [200/600], d_loss: 0.6770, g_loss: 1.8977, D(x): 0.81, D(G(z)): 0.23\n",
      "Epoch [46/300], Step [400/600], d_loss: 0.7035, g_loss: 2.5979, D(x): 0.83, D(G(z)): 0.25\n",
      "Epoch [46/300], Step [600/600], d_loss: 0.4768, g_loss: 2.9634, D(x): 0.82, D(G(z)): 0.12\n",
      "Saving fake_images-0047.png\n",
      "Epoch [47/300], Step [200/600], d_loss: 0.4476, g_loss: 3.4064, D(x): 0.85, D(G(z)): 0.12\n",
      "Epoch [47/300], Step [400/600], d_loss: 0.3954, g_loss: 3.6402, D(x): 0.84, D(G(z)): 0.10\n",
      "Epoch [47/300], Step [600/600], d_loss: 0.4063, g_loss: 4.1584, D(x): 0.84, D(G(z)): 0.10\n",
      "Saving fake_images-0048.png\n",
      "Epoch [48/300], Step [200/600], d_loss: 0.3467, g_loss: 4.4218, D(x): 0.88, D(G(z)): 0.07\n",
      "Epoch [48/300], Step [400/600], d_loss: 0.4429, g_loss: 2.6044, D(x): 0.86, D(G(z)): 0.17\n",
      "Epoch [48/300], Step [600/600], d_loss: 0.4594, g_loss: 1.9737, D(x): 0.92, D(G(z)): 0.22\n",
      "Saving fake_images-0049.png\n",
      "Epoch [49/300], Step [200/600], d_loss: 0.7636, g_loss: 2.6666, D(x): 0.81, D(G(z)): 0.28\n",
      "Epoch [49/300], Step [400/600], d_loss: 0.5251, g_loss: 3.2104, D(x): 0.80, D(G(z)): 0.12\n",
      "Epoch [49/300], Step [600/600], d_loss: 0.6638, g_loss: 2.0503, D(x): 0.78, D(G(z)): 0.15\n",
      "Saving fake_images-0050.png\n",
      "Epoch [50/300], Step [200/600], d_loss: 0.7328, g_loss: 2.6563, D(x): 0.71, D(G(z)): 0.11\n",
      "Epoch [50/300], Step [400/600], d_loss: 0.6716, g_loss: 2.1234, D(x): 0.85, D(G(z)): 0.29\n",
      "Epoch [50/300], Step [600/600], d_loss: 0.6828, g_loss: 2.0977, D(x): 0.79, D(G(z)): 0.21\n",
      "Saving fake_images-0051.png\n",
      "Epoch [51/300], Step [200/600], d_loss: 0.8617, g_loss: 2.6691, D(x): 0.80, D(G(z)): 0.25\n",
      "Epoch [51/300], Step [400/600], d_loss: 0.6169, g_loss: 2.0693, D(x): 0.83, D(G(z)): 0.23\n",
      "Epoch [51/300], Step [600/600], d_loss: 0.7055, g_loss: 2.4746, D(x): 0.75, D(G(z)): 0.13\n",
      "Saving fake_images-0052.png\n",
      "Epoch [52/300], Step [200/600], d_loss: 0.5613, g_loss: 2.8845, D(x): 0.77, D(G(z)): 0.11\n",
      "Epoch [52/300], Step [400/600], d_loss: 0.6170, g_loss: 2.7998, D(x): 0.81, D(G(z)): 0.19\n",
      "Epoch [52/300], Step [600/600], d_loss: 0.7721, g_loss: 1.6459, D(x): 0.81, D(G(z)): 0.28\n",
      "Saving fake_images-0053.png\n",
      "Epoch [53/300], Step [200/600], d_loss: 0.7048, g_loss: 2.6542, D(x): 0.80, D(G(z)): 0.18\n",
      "Epoch [53/300], Step [400/600], d_loss: 0.6669, g_loss: 2.6834, D(x): 0.79, D(G(z)): 0.20\n",
      "Epoch [53/300], Step [600/600], d_loss: 0.7271, g_loss: 3.2803, D(x): 0.72, D(G(z)): 0.17\n",
      "Saving fake_images-0054.png\n",
      "Epoch [54/300], Step [200/600], d_loss: 0.6388, g_loss: 2.0036, D(x): 0.85, D(G(z)): 0.21\n",
      "Epoch [54/300], Step [400/600], d_loss: 0.6821, g_loss: 2.4578, D(x): 0.75, D(G(z)): 0.13\n",
      "Epoch [54/300], Step [600/600], d_loss: 0.6498, g_loss: 2.1679, D(x): 0.77, D(G(z)): 0.18\n",
      "Saving fake_images-0055.png\n",
      "Epoch [55/300], Step [200/600], d_loss: 0.5960, g_loss: 2.8307, D(x): 0.79, D(G(z)): 0.19\n",
      "Epoch [55/300], Step [400/600], d_loss: 0.7403, g_loss: 2.8142, D(x): 0.79, D(G(z)): 0.23\n",
      "Epoch [55/300], Step [600/600], d_loss: 0.5646, g_loss: 2.2473, D(x): 0.83, D(G(z)): 0.20\n",
      "Saving fake_images-0056.png\n",
      "Epoch [56/300], Step [200/600], d_loss: 0.4879, g_loss: 2.9081, D(x): 0.83, D(G(z)): 0.18\n",
      "Epoch [56/300], Step [400/600], d_loss: 0.4980, g_loss: 2.6409, D(x): 0.77, D(G(z)): 0.11\n",
      "Epoch [56/300], Step [600/600], d_loss: 0.4908, g_loss: 2.4924, D(x): 0.84, D(G(z)): 0.19\n",
      "Saving fake_images-0057.png\n",
      "Epoch [57/300], Step [200/600], d_loss: 0.5348, g_loss: 2.1192, D(x): 0.88, D(G(z)): 0.24\n",
      "Epoch [57/300], Step [400/600], d_loss: 0.6716, g_loss: 2.6455, D(x): 0.76, D(G(z)): 0.18\n",
      "Epoch [57/300], Step [600/600], d_loss: 0.5695, g_loss: 2.3431, D(x): 0.85, D(G(z)): 0.19\n",
      "Saving fake_images-0058.png\n",
      "Epoch [58/300], Step [200/600], d_loss: 0.7082, g_loss: 2.9097, D(x): 0.82, D(G(z)): 0.22\n",
      "Epoch [58/300], Step [400/600], d_loss: 0.3527, g_loss: 3.6797, D(x): 0.86, D(G(z)): 0.11\n",
      "Epoch [58/300], Step [600/600], d_loss: 0.5485, g_loss: 2.7999, D(x): 0.84, D(G(z)): 0.21\n",
      "Saving fake_images-0059.png\n",
      "Epoch [59/300], Step [200/600], d_loss: 0.3405, g_loss: 3.0072, D(x): 0.90, D(G(z)): 0.14\n",
      "Epoch [59/300], Step [400/600], d_loss: 0.4965, g_loss: 3.3475, D(x): 0.82, D(G(z)): 0.13\n",
      "Epoch [59/300], Step [600/600], d_loss: 0.4011, g_loss: 2.2915, D(x): 0.90, D(G(z)): 0.20\n",
      "Saving fake_images-0060.png\n",
      "Epoch [60/300], Step [200/600], d_loss: 0.5175, g_loss: 2.4347, D(x): 0.84, D(G(z)): 0.18\n",
      "Epoch [60/300], Step [400/600], d_loss: 0.4542, g_loss: 3.4823, D(x): 0.81, D(G(z)): 0.14\n",
      "Epoch [60/300], Step [600/600], d_loss: 0.8389, g_loss: 2.2217, D(x): 0.72, D(G(z)): 0.23\n",
      "Saving fake_images-0061.png\n",
      "Epoch [61/300], Step [200/600], d_loss: 0.5718, g_loss: 1.9923, D(x): 0.78, D(G(z)): 0.15\n",
      "Epoch [61/300], Step [400/600], d_loss: 0.3677, g_loss: 2.9489, D(x): 0.83, D(G(z)): 0.12\n",
      "Epoch [61/300], Step [600/600], d_loss: 0.5633, g_loss: 2.3445, D(x): 0.85, D(G(z)): 0.21\n",
      "Saving fake_images-0062.png\n",
      "Epoch [62/300], Step [200/600], d_loss: 0.5199, g_loss: 2.7137, D(x): 0.76, D(G(z)): 0.09\n",
      "Epoch [62/300], Step [400/600], d_loss: 0.6829, g_loss: 3.3089, D(x): 0.74, D(G(z)): 0.16\n",
      "Epoch [62/300], Step [600/600], d_loss: 0.8075, g_loss: 2.0404, D(x): 0.72, D(G(z)): 0.20\n",
      "Saving fake_images-0063.png\n",
      "Epoch [63/300], Step [200/600], d_loss: 0.5613, g_loss: 1.5640, D(x): 0.87, D(G(z)): 0.26\n",
      "Epoch [63/300], Step [400/600], d_loss: 0.7190, g_loss: 2.3099, D(x): 0.78, D(G(z)): 0.26\n",
      "Epoch [63/300], Step [600/600], d_loss: 0.7213, g_loss: 1.8034, D(x): 0.84, D(G(z)): 0.31\n",
      "Saving fake_images-0064.png\n",
      "Epoch [64/300], Step [200/600], d_loss: 0.5066, g_loss: 2.8127, D(x): 0.81, D(G(z)): 0.16\n",
      "Epoch [64/300], Step [400/600], d_loss: 0.7476, g_loss: 2.6986, D(x): 0.70, D(G(z)): 0.16\n",
      "Epoch [64/300], Step [600/600], d_loss: 0.9256, g_loss: 1.9322, D(x): 0.64, D(G(z)): 0.15\n",
      "Saving fake_images-0065.png\n",
      "Epoch [65/300], Step [200/600], d_loss: 0.6435, g_loss: 2.3102, D(x): 0.73, D(G(z)): 0.15\n",
      "Epoch [65/300], Step [400/600], d_loss: 0.7513, g_loss: 1.6812, D(x): 0.72, D(G(z)): 0.17\n",
      "Epoch [65/300], Step [600/600], d_loss: 0.5198, g_loss: 2.0942, D(x): 0.83, D(G(z)): 0.21\n",
      "Saving fake_images-0066.png\n",
      "Epoch [66/300], Step [200/600], d_loss: 0.7856, g_loss: 2.2323, D(x): 0.72, D(G(z)): 0.16\n",
      "Epoch [66/300], Step [400/600], d_loss: 0.6467, g_loss: 2.0361, D(x): 0.80, D(G(z)): 0.23\n",
      "Epoch [66/300], Step [600/600], d_loss: 0.5688, g_loss: 2.3037, D(x): 0.78, D(G(z)): 0.20\n",
      "Saving fake_images-0067.png\n",
      "Epoch [67/300], Step [200/600], d_loss: 0.6421, g_loss: 2.1808, D(x): 0.80, D(G(z)): 0.24\n",
      "Epoch [67/300], Step [400/600], d_loss: 0.7115, g_loss: 2.4957, D(x): 0.76, D(G(z)): 0.24\n",
      "Epoch [67/300], Step [600/600], d_loss: 0.6715, g_loss: 2.4459, D(x): 0.81, D(G(z)): 0.25\n",
      "Saving fake_images-0068.png\n",
      "Epoch [68/300], Step [200/600], d_loss: 0.7443, g_loss: 2.8976, D(x): 0.79, D(G(z)): 0.26\n",
      "Epoch [68/300], Step [400/600], d_loss: 0.6398, g_loss: 1.6615, D(x): 0.81, D(G(z)): 0.28\n",
      "Epoch [68/300], Step [600/600], d_loss: 0.7556, g_loss: 2.7484, D(x): 0.69, D(G(z)): 0.15\n",
      "Saving fake_images-0069.png\n",
      "Epoch [69/300], Step [200/600], d_loss: 0.6380, g_loss: 2.9939, D(x): 0.70, D(G(z)): 0.09\n",
      "Epoch [69/300], Step [400/600], d_loss: 0.6867, g_loss: 2.1415, D(x): 0.78, D(G(z)): 0.20\n",
      "Epoch [69/300], Step [600/600], d_loss: 0.7758, g_loss: 2.2587, D(x): 0.75, D(G(z)): 0.20\n",
      "Saving fake_images-0070.png\n",
      "Epoch [70/300], Step [200/600], d_loss: 0.4439, g_loss: 2.6084, D(x): 0.86, D(G(z)): 0.18\n",
      "Epoch [70/300], Step [400/600], d_loss: 0.5680, g_loss: 1.9021, D(x): 0.81, D(G(z)): 0.17\n",
      "Epoch [70/300], Step [600/600], d_loss: 0.9623, g_loss: 1.8229, D(x): 0.75, D(G(z)): 0.32\n",
      "Saving fake_images-0071.png\n",
      "Epoch [71/300], Step [200/600], d_loss: 0.8453, g_loss: 2.1668, D(x): 0.72, D(G(z)): 0.20\n",
      "Epoch [71/300], Step [400/600], d_loss: 0.6400, g_loss: 2.3330, D(x): 0.80, D(G(z)): 0.22\n",
      "Epoch [71/300], Step [600/600], d_loss: 0.5961, g_loss: 2.7210, D(x): 0.81, D(G(z)): 0.19\n",
      "Saving fake_images-0072.png\n",
      "Epoch [72/300], Step [200/600], d_loss: 0.8469, g_loss: 1.8562, D(x): 0.81, D(G(z)): 0.34\n",
      "Epoch [72/300], Step [400/600], d_loss: 0.5505, g_loss: 3.2173, D(x): 0.78, D(G(z)): 0.14\n",
      "Epoch [72/300], Step [600/600], d_loss: 0.8587, g_loss: 2.1780, D(x): 0.74, D(G(z)): 0.25\n",
      "Saving fake_images-0073.png\n",
      "Epoch [73/300], Step [200/600], d_loss: 0.7115, g_loss: 2.7438, D(x): 0.73, D(G(z)): 0.15\n",
      "Epoch [73/300], Step [400/600], d_loss: 0.6776, g_loss: 2.2474, D(x): 0.73, D(G(z)): 0.18\n",
      "Epoch [73/300], Step [600/600], d_loss: 0.6537, g_loss: 2.2224, D(x): 0.80, D(G(z)): 0.21\n",
      "Saving fake_images-0074.png\n",
      "Epoch [74/300], Step [200/600], d_loss: 0.8254, g_loss: 2.5497, D(x): 0.72, D(G(z)): 0.22\n",
      "Epoch [74/300], Step [400/600], d_loss: 0.7903, g_loss: 1.6753, D(x): 0.79, D(G(z)): 0.30\n",
      "Epoch [74/300], Step [600/600], d_loss: 0.7836, g_loss: 1.6150, D(x): 0.83, D(G(z)): 0.32\n",
      "Saving fake_images-0075.png\n",
      "Epoch [75/300], Step [200/600], d_loss: 0.8739, g_loss: 2.2762, D(x): 0.80, D(G(z)): 0.35\n",
      "Epoch [75/300], Step [400/600], d_loss: 0.6619, g_loss: 1.9329, D(x): 0.79, D(G(z)): 0.23\n",
      "Epoch [75/300], Step [600/600], d_loss: 0.7348, g_loss: 2.1556, D(x): 0.80, D(G(z)): 0.30\n",
      "Saving fake_images-0076.png\n",
      "Epoch [76/300], Step [200/600], d_loss: 0.8845, g_loss: 2.1068, D(x): 0.70, D(G(z)): 0.23\n",
      "Epoch [76/300], Step [400/600], d_loss: 0.6645, g_loss: 2.9036, D(x): 0.87, D(G(z)): 0.30\n",
      "Epoch [76/300], Step [600/600], d_loss: 0.7092, g_loss: 2.3942, D(x): 0.77, D(G(z)): 0.25\n",
      "Saving fake_images-0077.png\n",
      "Epoch [77/300], Step [200/600], d_loss: 0.5653, g_loss: 2.4735, D(x): 0.75, D(G(z)): 0.13\n",
      "Epoch [77/300], Step [400/600], d_loss: 1.0629, g_loss: 1.5004, D(x): 0.74, D(G(z)): 0.37\n",
      "Epoch [77/300], Step [600/600], d_loss: 0.7557, g_loss: 1.9990, D(x): 0.71, D(G(z)): 0.18\n",
      "Saving fake_images-0078.png\n",
      "Epoch [78/300], Step [200/600], d_loss: 0.6272, g_loss: 2.7315, D(x): 0.72, D(G(z)): 0.14\n",
      "Epoch [78/300], Step [400/600], d_loss: 0.7401, g_loss: 2.5666, D(x): 0.78, D(G(z)): 0.27\n",
      "Epoch [78/300], Step [600/600], d_loss: 0.7556, g_loss: 2.4012, D(x): 0.74, D(G(z)): 0.19\n",
      "Saving fake_images-0079.png\n",
      "Epoch [79/300], Step [200/600], d_loss: 0.9050, g_loss: 2.5470, D(x): 0.71, D(G(z)): 0.23\n",
      "Epoch [79/300], Step [400/600], d_loss: 0.6367, g_loss: 2.1274, D(x): 0.76, D(G(z)): 0.18\n",
      "Epoch [79/300], Step [600/600], d_loss: 0.9656, g_loss: 1.7793, D(x): 0.64, D(G(z)): 0.20\n",
      "Saving fake_images-0080.png\n",
      "Epoch [80/300], Step [200/600], d_loss: 0.6326, g_loss: 1.8554, D(x): 0.85, D(G(z)): 0.29\n",
      "Epoch [80/300], Step [400/600], d_loss: 0.8467, g_loss: 1.8733, D(x): 0.81, D(G(z)): 0.37\n",
      "Epoch [80/300], Step [600/600], d_loss: 0.9661, g_loss: 1.6464, D(x): 0.74, D(G(z)): 0.32\n",
      "Saving fake_images-0081.png\n",
      "Epoch [81/300], Step [200/600], d_loss: 0.8095, g_loss: 2.5874, D(x): 0.67, D(G(z)): 0.16\n",
      "Epoch [81/300], Step [400/600], d_loss: 0.5085, g_loss: 1.9866, D(x): 0.84, D(G(z)): 0.19\n",
      "Epoch [81/300], Step [600/600], d_loss: 0.6469, g_loss: 2.5126, D(x): 0.81, D(G(z)): 0.27\n",
      "Saving fake_images-0082.png\n",
      "Epoch [82/300], Step [200/600], d_loss: 0.6182, g_loss: 2.1741, D(x): 0.79, D(G(z)): 0.21\n",
      "Epoch [82/300], Step [400/600], d_loss: 0.6395, g_loss: 2.2840, D(x): 0.77, D(G(z)): 0.20\n",
      "Epoch [82/300], Step [600/600], d_loss: 0.5535, g_loss: 2.0552, D(x): 0.83, D(G(z)): 0.22\n",
      "Saving fake_images-0083.png\n",
      "Epoch [83/300], Step [200/600], d_loss: 0.8364, g_loss: 2.5791, D(x): 0.66, D(G(z)): 0.12\n",
      "Epoch [83/300], Step [400/600], d_loss: 0.8161, g_loss: 2.6258, D(x): 0.71, D(G(z)): 0.19\n",
      "Epoch [83/300], Step [600/600], d_loss: 0.8683, g_loss: 2.1077, D(x): 0.68, D(G(z)): 0.19\n",
      "Saving fake_images-0084.png\n",
      "Epoch [84/300], Step [200/600], d_loss: 0.8980, g_loss: 2.6178, D(x): 0.70, D(G(z)): 0.21\n",
      "Epoch [84/300], Step [400/600], d_loss: 1.0638, g_loss: 2.1557, D(x): 0.68, D(G(z)): 0.27\n",
      "Epoch [84/300], Step [600/600], d_loss: 1.0221, g_loss: 1.5768, D(x): 0.75, D(G(z)): 0.38\n",
      "Saving fake_images-0085.png\n",
      "Epoch [85/300], Step [200/600], d_loss: 0.7422, g_loss: 2.6923, D(x): 0.77, D(G(z)): 0.25\n",
      "Epoch [85/300], Step [400/600], d_loss: 0.8822, g_loss: 2.1978, D(x): 0.73, D(G(z)): 0.28\n",
      "Epoch [85/300], Step [600/600], d_loss: 0.7804, g_loss: 2.0256, D(x): 0.76, D(G(z)): 0.27\n",
      "Saving fake_images-0086.png\n",
      "Epoch [86/300], Step [200/600], d_loss: 0.8250, g_loss: 2.5624, D(x): 0.82, D(G(z)): 0.32\n",
      "Epoch [86/300], Step [400/600], d_loss: 0.8078, g_loss: 1.8078, D(x): 0.69, D(G(z)): 0.21\n",
      "Epoch [86/300], Step [600/600], d_loss: 0.6442, g_loss: 2.1000, D(x): 0.71, D(G(z)): 0.13\n",
      "Saving fake_images-0087.png\n",
      "Epoch [87/300], Step [200/600], d_loss: 0.7149, g_loss: 2.3575, D(x): 0.74, D(G(z)): 0.21\n",
      "Epoch [87/300], Step [400/600], d_loss: 0.6634, g_loss: 1.8620, D(x): 0.73, D(G(z)): 0.19\n",
      "Epoch [87/300], Step [600/600], d_loss: 0.6730, g_loss: 1.9635, D(x): 0.89, D(G(z)): 0.34\n",
      "Saving fake_images-0088.png\n",
      "Epoch [88/300], Step [200/600], d_loss: 0.7632, g_loss: 1.6336, D(x): 0.81, D(G(z)): 0.30\n",
      "Epoch [88/300], Step [400/600], d_loss: 0.8004, g_loss: 2.1383, D(x): 0.74, D(G(z)): 0.26\n",
      "Epoch [88/300], Step [600/600], d_loss: 1.0180, g_loss: 2.0983, D(x): 0.65, D(G(z)): 0.23\n",
      "Saving fake_images-0089.png\n",
      "Epoch [89/300], Step [200/600], d_loss: 0.8634, g_loss: 1.8949, D(x): 0.83, D(G(z)): 0.38\n",
      "Epoch [89/300], Step [400/600], d_loss: 1.1010, g_loss: 1.8883, D(x): 0.73, D(G(z)): 0.36\n",
      "Epoch [89/300], Step [600/600], d_loss: 0.7228, g_loss: 2.3685, D(x): 0.75, D(G(z)): 0.23\n",
      "Saving fake_images-0090.png\n",
      "Epoch [90/300], Step [200/600], d_loss: 0.7411, g_loss: 2.2193, D(x): 0.81, D(G(z)): 0.31\n",
      "Epoch [90/300], Step [400/600], d_loss: 0.6239, g_loss: 2.6973, D(x): 0.79, D(G(z)): 0.22\n",
      "Epoch [90/300], Step [600/600], d_loss: 0.5109, g_loss: 2.0842, D(x): 0.81, D(G(z)): 0.17\n",
      "Saving fake_images-0091.png\n",
      "Epoch [91/300], Step [200/600], d_loss: 0.7125, g_loss: 1.8645, D(x): 0.77, D(G(z)): 0.26\n",
      "Epoch [91/300], Step [400/600], d_loss: 0.7376, g_loss: 1.4573, D(x): 0.73, D(G(z)): 0.25\n",
      "Epoch [91/300], Step [600/600], d_loss: 0.7895, g_loss: 2.1397, D(x): 0.78, D(G(z)): 0.29\n",
      "Saving fake_images-0092.png\n",
      "Epoch [92/300], Step [200/600], d_loss: 0.9136, g_loss: 1.8159, D(x): 0.78, D(G(z)): 0.35\n",
      "Epoch [92/300], Step [400/600], d_loss: 0.7925, g_loss: 1.8504, D(x): 0.78, D(G(z)): 0.30\n",
      "Epoch [92/300], Step [600/600], d_loss: 0.8811, g_loss: 2.6628, D(x): 0.70, D(G(z)): 0.25\n",
      "Saving fake_images-0093.png\n",
      "Epoch [93/300], Step [200/600], d_loss: 0.7497, g_loss: 1.9462, D(x): 0.75, D(G(z)): 0.25\n",
      "Epoch [93/300], Step [400/600], d_loss: 0.6676, g_loss: 2.0880, D(x): 0.81, D(G(z)): 0.28\n",
      "Epoch [93/300], Step [600/600], d_loss: 0.7381, g_loss: 1.9454, D(x): 0.81, D(G(z)): 0.32\n",
      "Saving fake_images-0094.png\n",
      "Epoch [94/300], Step [200/600], d_loss: 1.0259, g_loss: 1.5701, D(x): 0.72, D(G(z)): 0.33\n",
      "Epoch [94/300], Step [400/600], d_loss: 0.7156, g_loss: 2.5122, D(x): 0.72, D(G(z)): 0.19\n",
      "Epoch [94/300], Step [600/600], d_loss: 0.8611, g_loss: 1.8067, D(x): 0.72, D(G(z)): 0.27\n",
      "Saving fake_images-0095.png\n",
      "Epoch [95/300], Step [200/600], d_loss: 0.7736, g_loss: 1.7595, D(x): 0.74, D(G(z)): 0.25\n",
      "Epoch [95/300], Step [400/600], d_loss: 0.7707, g_loss: 1.4762, D(x): 0.80, D(G(z)): 0.33\n",
      "Epoch [95/300], Step [600/600], d_loss: 0.7543, g_loss: 1.9842, D(x): 0.79, D(G(z)): 0.28\n",
      "Saving fake_images-0096.png\n",
      "Epoch [96/300], Step [200/600], d_loss: 0.8048, g_loss: 2.0018, D(x): 0.79, D(G(z)): 0.32\n",
      "Epoch [96/300], Step [400/600], d_loss: 0.7817, g_loss: 1.5204, D(x): 0.81, D(G(z)): 0.34\n",
      "Epoch [96/300], Step [600/600], d_loss: 0.6957, g_loss: 1.7338, D(x): 0.81, D(G(z)): 0.31\n",
      "Saving fake_images-0097.png\n",
      "Epoch [97/300], Step [200/600], d_loss: 0.7526, g_loss: 1.8669, D(x): 0.77, D(G(z)): 0.27\n",
      "Epoch [97/300], Step [400/600], d_loss: 0.6249, g_loss: 2.1626, D(x): 0.71, D(G(z)): 0.11\n",
      "Epoch [97/300], Step [600/600], d_loss: 0.8591, g_loss: 1.7155, D(x): 0.76, D(G(z)): 0.32\n",
      "Saving fake_images-0098.png\n",
      "Epoch [98/300], Step [200/600], d_loss: 0.8354, g_loss: 2.0040, D(x): 0.71, D(G(z)): 0.25\n",
      "Epoch [98/300], Step [400/600], d_loss: 0.8795, g_loss: 2.3913, D(x): 0.71, D(G(z)): 0.30\n",
      "Epoch [98/300], Step [600/600], d_loss: 0.8361, g_loss: 1.2821, D(x): 0.81, D(G(z)): 0.35\n",
      "Saving fake_images-0099.png\n",
      "Epoch [99/300], Step [200/600], d_loss: 0.8048, g_loss: 1.7250, D(x): 0.72, D(G(z)): 0.25\n",
      "Epoch [99/300], Step [400/600], d_loss: 0.5833, g_loss: 2.5132, D(x): 0.77, D(G(z)): 0.19\n",
      "Epoch [99/300], Step [600/600], d_loss: 0.6867, g_loss: 1.9218, D(x): 0.83, D(G(z)): 0.31\n",
      "Saving fake_images-0100.png\n",
      "Epoch [100/300], Step [200/600], d_loss: 0.7275, g_loss: 1.9874, D(x): 0.81, D(G(z)): 0.30\n",
      "Epoch [100/300], Step [400/600], d_loss: 0.6860, g_loss: 2.0527, D(x): 0.72, D(G(z)): 0.18\n",
      "Epoch [100/300], Step [600/600], d_loss: 0.6367, g_loss: 2.3343, D(x): 0.81, D(G(z)): 0.26\n",
      "Saving fake_images-0101.png\n",
      "Epoch [101/300], Step [200/600], d_loss: 0.7776, g_loss: 1.8722, D(x): 0.75, D(G(z)): 0.25\n",
      "Epoch [101/300], Step [400/600], d_loss: 0.8929, g_loss: 1.9356, D(x): 0.64, D(G(z)): 0.17\n",
      "Epoch [101/300], Step [600/600], d_loss: 0.8550, g_loss: 1.6030, D(x): 0.70, D(G(z)): 0.28\n",
      "Saving fake_images-0102.png\n",
      "Epoch [102/300], Step [200/600], d_loss: 0.9423, g_loss: 2.1787, D(x): 0.63, D(G(z)): 0.19\n",
      "Epoch [102/300], Step [400/600], d_loss: 1.0382, g_loss: 1.5015, D(x): 0.63, D(G(z)): 0.26\n",
      "Epoch [102/300], Step [600/600], d_loss: 0.6423, g_loss: 1.9946, D(x): 0.77, D(G(z)): 0.20\n",
      "Saving fake_images-0103.png\n",
      "Epoch [103/300], Step [200/600], d_loss: 0.7642, g_loss: 1.8709, D(x): 0.71, D(G(z)): 0.22\n",
      "Epoch [103/300], Step [400/600], d_loss: 0.8663, g_loss: 2.0705, D(x): 0.71, D(G(z)): 0.27\n",
      "Epoch [103/300], Step [600/600], d_loss: 0.9195, g_loss: 1.9075, D(x): 0.71, D(G(z)): 0.31\n",
      "Saving fake_images-0104.png\n",
      "Epoch [104/300], Step [200/600], d_loss: 0.9459, g_loss: 1.7492, D(x): 0.66, D(G(z)): 0.27\n",
      "Epoch [104/300], Step [400/600], d_loss: 1.0159, g_loss: 1.5622, D(x): 0.63, D(G(z)): 0.27\n",
      "Epoch [104/300], Step [600/600], d_loss: 0.6702, g_loss: 2.1891, D(x): 0.83, D(G(z)): 0.30\n",
      "Saving fake_images-0105.png\n",
      "Epoch [105/300], Step [200/600], d_loss: 1.0872, g_loss: 1.3980, D(x): 0.70, D(G(z)): 0.34\n",
      "Epoch [105/300], Step [400/600], d_loss: 0.8920, g_loss: 1.8531, D(x): 0.79, D(G(z)): 0.35\n",
      "Epoch [105/300], Step [600/600], d_loss: 0.9965, g_loss: 1.6609, D(x): 0.64, D(G(z)): 0.23\n",
      "Saving fake_images-0106.png\n",
      "Epoch [106/300], Step [200/600], d_loss: 0.7330, g_loss: 1.5503, D(x): 0.72, D(G(z)): 0.19\n",
      "Epoch [106/300], Step [400/600], d_loss: 0.8515, g_loss: 1.6988, D(x): 0.76, D(G(z)): 0.28\n",
      "Epoch [106/300], Step [600/600], d_loss: 0.8366, g_loss: 1.6135, D(x): 0.82, D(G(z)): 0.38\n",
      "Saving fake_images-0107.png\n",
      "Epoch [107/300], Step [200/600], d_loss: 0.9634, g_loss: 2.3694, D(x): 0.61, D(G(z)): 0.15\n",
      "Epoch [107/300], Step [400/600], d_loss: 0.7618, g_loss: 1.6743, D(x): 0.70, D(G(z)): 0.21\n",
      "Epoch [107/300], Step [600/600], d_loss: 0.8198, g_loss: 1.6857, D(x): 0.80, D(G(z)): 0.34\n",
      "Saving fake_images-0108.png\n",
      "Epoch [108/300], Step [200/600], d_loss: 0.9422, g_loss: 1.9356, D(x): 0.76, D(G(z)): 0.35\n",
      "Epoch [108/300], Step [400/600], d_loss: 0.6188, g_loss: 2.4364, D(x): 0.80, D(G(z)): 0.24\n",
      "Epoch [108/300], Step [600/600], d_loss: 0.8342, g_loss: 1.5297, D(x): 0.68, D(G(z)): 0.24\n",
      "Saving fake_images-0109.png\n",
      "Epoch [109/300], Step [200/600], d_loss: 0.7608, g_loss: 1.8430, D(x): 0.72, D(G(z)): 0.21\n",
      "Epoch [109/300], Step [400/600], d_loss: 1.0262, g_loss: 1.8801, D(x): 0.70, D(G(z)): 0.35\n",
      "Epoch [109/300], Step [600/600], d_loss: 0.9311, g_loss: 2.3630, D(x): 0.69, D(G(z)): 0.26\n",
      "Saving fake_images-0110.png\n",
      "Epoch [110/300], Step [200/600], d_loss: 0.9024, g_loss: 2.0158, D(x): 0.70, D(G(z)): 0.25\n",
      "Epoch [110/300], Step [400/600], d_loss: 0.7203, g_loss: 2.0303, D(x): 0.72, D(G(z)): 0.22\n",
      "Epoch [110/300], Step [600/600], d_loss: 0.8182, g_loss: 1.8707, D(x): 0.76, D(G(z)): 0.29\n",
      "Saving fake_images-0111.png\n",
      "Epoch [111/300], Step [200/600], d_loss: 0.7375, g_loss: 2.0731, D(x): 0.75, D(G(z)): 0.23\n",
      "Epoch [111/300], Step [400/600], d_loss: 0.9518, g_loss: 2.2151, D(x): 0.65, D(G(z)): 0.21\n",
      "Epoch [111/300], Step [600/600], d_loss: 0.8857, g_loss: 1.6473, D(x): 0.76, D(G(z)): 0.32\n",
      "Saving fake_images-0112.png\n",
      "Epoch [112/300], Step [200/600], d_loss: 0.7634, g_loss: 2.2953, D(x): 0.71, D(G(z)): 0.21\n",
      "Epoch [112/300], Step [400/600], d_loss: 0.6988, g_loss: 1.8630, D(x): 0.77, D(G(z)): 0.26\n",
      "Epoch [112/300], Step [600/600], d_loss: 0.6149, g_loss: 2.5884, D(x): 0.81, D(G(z)): 0.24\n",
      "Saving fake_images-0113.png\n",
      "Epoch [113/300], Step [200/600], d_loss: 1.0759, g_loss: 1.4963, D(x): 0.67, D(G(z)): 0.33\n",
      "Epoch [113/300], Step [400/600], d_loss: 0.7384, g_loss: 1.8208, D(x): 0.74, D(G(z)): 0.25\n",
      "Epoch [113/300], Step [600/600], d_loss: 0.8068, g_loss: 2.1333, D(x): 0.74, D(G(z)): 0.28\n",
      "Saving fake_images-0114.png\n",
      "Epoch [114/300], Step [200/600], d_loss: 1.0138, g_loss: 1.3475, D(x): 0.76, D(G(z)): 0.39\n",
      "Epoch [114/300], Step [400/600], d_loss: 1.0037, g_loss: 1.6008, D(x): 0.68, D(G(z)): 0.33\n",
      "Epoch [114/300], Step [600/600], d_loss: 0.9500, g_loss: 1.2489, D(x): 0.71, D(G(z)): 0.32\n",
      "Saving fake_images-0115.png\n",
      "Epoch [115/300], Step [200/600], d_loss: 0.7974, g_loss: 1.4783, D(x): 0.70, D(G(z)): 0.26\n",
      "Epoch [115/300], Step [400/600], d_loss: 0.8102, g_loss: 1.6560, D(x): 0.74, D(G(z)): 0.30\n",
      "Epoch [115/300], Step [600/600], d_loss: 0.8163, g_loss: 1.8876, D(x): 0.76, D(G(z)): 0.31\n",
      "Saving fake_images-0116.png\n",
      "Epoch [116/300], Step [200/600], d_loss: 0.8340, g_loss: 1.6750, D(x): 0.70, D(G(z)): 0.28\n",
      "Epoch [116/300], Step [400/600], d_loss: 1.0533, g_loss: 1.4283, D(x): 0.66, D(G(z)): 0.30\n",
      "Epoch [116/300], Step [600/600], d_loss: 0.8579, g_loss: 1.5802, D(x): 0.76, D(G(z)): 0.35\n",
      "Saving fake_images-0117.png\n",
      "Epoch [117/300], Step [200/600], d_loss: 0.7866, g_loss: 1.9328, D(x): 0.74, D(G(z)): 0.27\n",
      "Epoch [117/300], Step [400/600], d_loss: 1.0755, g_loss: 1.7466, D(x): 0.60, D(G(z)): 0.28\n",
      "Epoch [117/300], Step [600/600], d_loss: 0.8033, g_loss: 1.6879, D(x): 0.72, D(G(z)): 0.21\n",
      "Saving fake_images-0118.png\n",
      "Epoch [118/300], Step [200/600], d_loss: 0.9541, g_loss: 2.0305, D(x): 0.71, D(G(z)): 0.32\n",
      "Epoch [118/300], Step [400/600], d_loss: 0.8116, g_loss: 2.0930, D(x): 0.70, D(G(z)): 0.20\n",
      "Epoch [118/300], Step [600/600], d_loss: 0.8056, g_loss: 1.5047, D(x): 0.70, D(G(z)): 0.25\n",
      "Saving fake_images-0119.png\n",
      "Epoch [119/300], Step [200/600], d_loss: 0.8731, g_loss: 1.1041, D(x): 0.75, D(G(z)): 0.30\n",
      "Epoch [119/300], Step [400/600], d_loss: 1.0485, g_loss: 1.6059, D(x): 0.61, D(G(z)): 0.20\n",
      "Epoch [119/300], Step [600/600], d_loss: 0.8778, g_loss: 1.6049, D(x): 0.74, D(G(z)): 0.32\n",
      "Saving fake_images-0120.png\n",
      "Epoch [120/300], Step [200/600], d_loss: 0.9046, g_loss: 1.5313, D(x): 0.74, D(G(z)): 0.34\n",
      "Epoch [120/300], Step [400/600], d_loss: 1.0546, g_loss: 1.7444, D(x): 0.65, D(G(z)): 0.27\n",
      "Epoch [120/300], Step [600/600], d_loss: 0.9661, g_loss: 2.1966, D(x): 0.63, D(G(z)): 0.17\n",
      "Saving fake_images-0121.png\n",
      "Epoch [121/300], Step [200/600], d_loss: 0.6508, g_loss: 1.9345, D(x): 0.79, D(G(z)): 0.25\n",
      "Epoch [121/300], Step [400/600], d_loss: 0.7888, g_loss: 1.2935, D(x): 0.70, D(G(z)): 0.24\n",
      "Epoch [121/300], Step [600/600], d_loss: 0.8601, g_loss: 1.6870, D(x): 0.72, D(G(z)): 0.26\n",
      "Saving fake_images-0122.png\n",
      "Epoch [122/300], Step [200/600], d_loss: 0.8799, g_loss: 1.7348, D(x): 0.68, D(G(z)): 0.22\n",
      "Epoch [122/300], Step [400/600], d_loss: 1.0144, g_loss: 1.5093, D(x): 0.70, D(G(z)): 0.32\n",
      "Epoch [122/300], Step [600/600], d_loss: 0.6860, g_loss: 2.2483, D(x): 0.73, D(G(z)): 0.23\n",
      "Saving fake_images-0123.png\n",
      "Epoch [123/300], Step [200/600], d_loss: 0.7339, g_loss: 2.1014, D(x): 0.76, D(G(z)): 0.25\n",
      "Epoch [123/300], Step [400/600], d_loss: 1.0426, g_loss: 1.4381, D(x): 0.72, D(G(z)): 0.36\n",
      "Epoch [123/300], Step [600/600], d_loss: 0.7764, g_loss: 1.6968, D(x): 0.75, D(G(z)): 0.26\n",
      "Saving fake_images-0124.png\n",
      "Epoch [124/300], Step [200/600], d_loss: 1.0467, g_loss: 1.0568, D(x): 0.68, D(G(z)): 0.39\n",
      "Epoch [124/300], Step [400/600], d_loss: 0.9914, g_loss: 2.2813, D(x): 0.76, D(G(z)): 0.38\n",
      "Epoch [124/300], Step [600/600], d_loss: 0.8849, g_loss: 1.5207, D(x): 0.74, D(G(z)): 0.33\n",
      "Saving fake_images-0125.png\n",
      "Epoch [125/300], Step [200/600], d_loss: 0.9112, g_loss: 2.1368, D(x): 0.72, D(G(z)): 0.27\n",
      "Epoch [125/300], Step [400/600], d_loss: 1.0195, g_loss: 1.4626, D(x): 0.74, D(G(z)): 0.41\n",
      "Epoch [125/300], Step [600/600], d_loss: 1.0074, g_loss: 1.2019, D(x): 0.74, D(G(z)): 0.37\n",
      "Saving fake_images-0126.png\n",
      "Epoch [126/300], Step [200/600], d_loss: 1.1038, g_loss: 1.6311, D(x): 0.63, D(G(z)): 0.30\n",
      "Epoch [126/300], Step [400/600], d_loss: 0.8105, g_loss: 1.7030, D(x): 0.77, D(G(z)): 0.33\n",
      "Epoch [126/300], Step [600/600], d_loss: 0.9906, g_loss: 1.2725, D(x): 0.66, D(G(z)): 0.29\n",
      "Saving fake_images-0127.png\n",
      "Epoch [127/300], Step [200/600], d_loss: 1.0857, g_loss: 1.7121, D(x): 0.59, D(G(z)): 0.27\n",
      "Epoch [127/300], Step [400/600], d_loss: 0.9542, g_loss: 1.7142, D(x): 0.64, D(G(z)): 0.19\n",
      "Epoch [127/300], Step [600/600], d_loss: 1.0703, g_loss: 1.3764, D(x): 0.77, D(G(z)): 0.41\n",
      "Saving fake_images-0128.png\n",
      "Epoch [128/300], Step [200/600], d_loss: 0.8871, g_loss: 1.5984, D(x): 0.64, D(G(z)): 0.21\n",
      "Epoch [128/300], Step [400/600], d_loss: 1.1111, g_loss: 1.5540, D(x): 0.66, D(G(z)): 0.36\n",
      "Epoch [128/300], Step [600/600], d_loss: 0.8369, g_loss: 1.3378, D(x): 0.77, D(G(z)): 0.32\n",
      "Saving fake_images-0129.png\n",
      "Epoch [129/300], Step [200/600], d_loss: 0.6928, g_loss: 1.7025, D(x): 0.77, D(G(z)): 0.25\n",
      "Epoch [129/300], Step [400/600], d_loss: 1.1381, g_loss: 1.7958, D(x): 0.70, D(G(z)): 0.39\n",
      "Epoch [129/300], Step [600/600], d_loss: 0.6968, g_loss: 1.9181, D(x): 0.77, D(G(z)): 0.24\n",
      "Saving fake_images-0130.png\n",
      "Epoch [130/300], Step [200/600], d_loss: 0.9397, g_loss: 1.3574, D(x): 0.74, D(G(z)): 0.35\n",
      "Epoch [130/300], Step [400/600], d_loss: 0.9214, g_loss: 1.8917, D(x): 0.67, D(G(z)): 0.28\n",
      "Epoch [130/300], Step [600/600], d_loss: 0.8570, g_loss: 1.7599, D(x): 0.66, D(G(z)): 0.23\n",
      "Saving fake_images-0131.png\n",
      "Epoch [131/300], Step [200/600], d_loss: 0.7550, g_loss: 1.9796, D(x): 0.71, D(G(z)): 0.21\n",
      "Epoch [131/300], Step [400/600], d_loss: 0.9065, g_loss: 1.6059, D(x): 0.63, D(G(z)): 0.20\n",
      "Epoch [131/300], Step [600/600], d_loss: 0.9720, g_loss: 1.5246, D(x): 0.59, D(G(z)): 0.23\n",
      "Saving fake_images-0132.png\n",
      "Epoch [132/300], Step [200/600], d_loss: 0.9756, g_loss: 1.6670, D(x): 0.75, D(G(z)): 0.37\n",
      "Epoch [132/300], Step [400/600], d_loss: 0.9761, g_loss: 1.4651, D(x): 0.72, D(G(z)): 0.35\n",
      "Epoch [132/300], Step [600/600], d_loss: 0.9040, g_loss: 1.6913, D(x): 0.72, D(G(z)): 0.31\n",
      "Saving fake_images-0133.png\n",
      "Epoch [133/300], Step [200/600], d_loss: 0.7760, g_loss: 1.3858, D(x): 0.71, D(G(z)): 0.24\n",
      "Epoch [133/300], Step [400/600], d_loss: 0.8751, g_loss: 1.4414, D(x): 0.68, D(G(z)): 0.25\n",
      "Epoch [133/300], Step [600/600], d_loss: 1.1408, g_loss: 1.1596, D(x): 0.63, D(G(z)): 0.36\n",
      "Saving fake_images-0134.png\n",
      "Epoch [134/300], Step [200/600], d_loss: 0.9752, g_loss: 1.4838, D(x): 0.65, D(G(z)): 0.26\n",
      "Epoch [134/300], Step [400/600], d_loss: 0.9001, g_loss: 1.6829, D(x): 0.64, D(G(z)): 0.22\n",
      "Epoch [134/300], Step [600/600], d_loss: 1.0181, g_loss: 1.2964, D(x): 0.67, D(G(z)): 0.33\n",
      "Saving fake_images-0135.png\n",
      "Epoch [135/300], Step [200/600], d_loss: 0.8886, g_loss: 2.4034, D(x): 0.67, D(G(z)): 0.26\n",
      "Epoch [135/300], Step [400/600], d_loss: 1.0346, g_loss: 1.4128, D(x): 0.66, D(G(z)): 0.33\n",
      "Epoch [135/300], Step [600/600], d_loss: 0.8906, g_loss: 1.5256, D(x): 0.73, D(G(z)): 0.33\n",
      "Saving fake_images-0136.png\n",
      "Epoch [136/300], Step [200/600], d_loss: 1.0744, g_loss: 1.5119, D(x): 0.80, D(G(z)): 0.46\n",
      "Epoch [136/300], Step [400/600], d_loss: 1.1733, g_loss: 1.3994, D(x): 0.60, D(G(z)): 0.29\n",
      "Epoch [136/300], Step [600/600], d_loss: 1.1651, g_loss: 1.3747, D(x): 0.63, D(G(z)): 0.32\n",
      "Saving fake_images-0137.png\n",
      "Epoch [137/300], Step [200/600], d_loss: 0.9750, g_loss: 1.8354, D(x): 0.66, D(G(z)): 0.28\n",
      "Epoch [137/300], Step [400/600], d_loss: 0.9675, g_loss: 1.4342, D(x): 0.70, D(G(z)): 0.32\n",
      "Epoch [137/300], Step [600/600], d_loss: 0.7781, g_loss: 1.5731, D(x): 0.73, D(G(z)): 0.24\n",
      "Saving fake_images-0138.png\n",
      "Epoch [138/300], Step [200/600], d_loss: 0.9528, g_loss: 1.8191, D(x): 0.71, D(G(z)): 0.33\n",
      "Epoch [138/300], Step [400/600], d_loss: 1.0310, g_loss: 1.8187, D(x): 0.60, D(G(z)): 0.22\n",
      "Epoch [138/300], Step [600/600], d_loss: 0.8909, g_loss: 1.7102, D(x): 0.65, D(G(z)): 0.21\n",
      "Saving fake_images-0139.png\n",
      "Epoch [139/300], Step [200/600], d_loss: 1.0234, g_loss: 1.5139, D(x): 0.72, D(G(z)): 0.37\n",
      "Epoch [139/300], Step [400/600], d_loss: 0.8948, g_loss: 1.2592, D(x): 0.74, D(G(z)): 0.35\n",
      "Epoch [139/300], Step [600/600], d_loss: 0.8911, g_loss: 1.9164, D(x): 0.70, D(G(z)): 0.28\n",
      "Saving fake_images-0140.png\n",
      "Epoch [140/300], Step [200/600], d_loss: 0.8777, g_loss: 1.8277, D(x): 0.71, D(G(z)): 0.28\n",
      "Epoch [140/300], Step [400/600], d_loss: 0.9173, g_loss: 1.6234, D(x): 0.70, D(G(z)): 0.30\n",
      "Epoch [140/300], Step [600/600], d_loss: 0.9696, g_loss: 1.5314, D(x): 0.69, D(G(z)): 0.34\n",
      "Saving fake_images-0141.png\n",
      "Epoch [141/300], Step [200/600], d_loss: 0.7120, g_loss: 1.8175, D(x): 0.70, D(G(z)): 0.16\n",
      "Epoch [141/300], Step [400/600], d_loss: 1.0243, g_loss: 1.8855, D(x): 0.73, D(G(z)): 0.37\n",
      "Epoch [141/300], Step [600/600], d_loss: 1.1796, g_loss: 1.4219, D(x): 0.61, D(G(z)): 0.30\n",
      "Saving fake_images-0142.png\n",
      "Epoch [142/300], Step [200/600], d_loss: 0.6911, g_loss: 1.7213, D(x): 0.77, D(G(z)): 0.26\n",
      "Epoch [142/300], Step [400/600], d_loss: 0.8801, g_loss: 1.5246, D(x): 0.68, D(G(z)): 0.25\n",
      "Epoch [142/300], Step [600/600], d_loss: 0.9335, g_loss: 1.8227, D(x): 0.69, D(G(z)): 0.30\n",
      "Saving fake_images-0143.png\n",
      "Epoch [143/300], Step [200/600], d_loss: 0.8140, g_loss: 2.1563, D(x): 0.66, D(G(z)): 0.19\n",
      "Epoch [143/300], Step [400/600], d_loss: 0.9421, g_loss: 1.9261, D(x): 0.72, D(G(z)): 0.32\n",
      "Epoch [143/300], Step [600/600], d_loss: 1.2021, g_loss: 1.4618, D(x): 0.63, D(G(z)): 0.36\n",
      "Saving fake_images-0144.png\n",
      "Epoch [144/300], Step [200/600], d_loss: 0.8654, g_loss: 1.5657, D(x): 0.69, D(G(z)): 0.27\n",
      "Epoch [144/300], Step [400/600], d_loss: 0.8329, g_loss: 1.4975, D(x): 0.70, D(G(z)): 0.28\n",
      "Epoch [144/300], Step [600/600], d_loss: 1.0093, g_loss: 1.5105, D(x): 0.65, D(G(z)): 0.29\n",
      "Saving fake_images-0145.png\n",
      "Epoch [145/300], Step [200/600], d_loss: 1.0874, g_loss: 1.6506, D(x): 0.77, D(G(z)): 0.44\n",
      "Epoch [145/300], Step [400/600], d_loss: 0.9532, g_loss: 1.5898, D(x): 0.70, D(G(z)): 0.32\n",
      "Epoch [145/300], Step [600/600], d_loss: 0.9824, g_loss: 2.0227, D(x): 0.62, D(G(z)): 0.26\n",
      "Saving fake_images-0146.png\n",
      "Epoch [146/300], Step [200/600], d_loss: 0.8292, g_loss: 1.5988, D(x): 0.79, D(G(z)): 0.35\n",
      "Epoch [146/300], Step [400/600], d_loss: 1.0931, g_loss: 1.5863, D(x): 0.76, D(G(z)): 0.45\n",
      "Epoch [146/300], Step [600/600], d_loss: 0.9588, g_loss: 1.4677, D(x): 0.73, D(G(z)): 0.36\n",
      "Saving fake_images-0147.png\n",
      "Epoch [147/300], Step [200/600], d_loss: 0.8085, g_loss: 2.0026, D(x): 0.73, D(G(z)): 0.30\n",
      "Epoch [147/300], Step [400/600], d_loss: 1.0740, g_loss: 1.3700, D(x): 0.60, D(G(z)): 0.25\n",
      "Epoch [147/300], Step [600/600], d_loss: 0.7076, g_loss: 1.4754, D(x): 0.76, D(G(z)): 0.25\n",
      "Saving fake_images-0148.png\n",
      "Epoch [148/300], Step [200/600], d_loss: 0.9029, g_loss: 1.5819, D(x): 0.70, D(G(z)): 0.26\n",
      "Epoch [148/300], Step [400/600], d_loss: 0.8255, g_loss: 1.8011, D(x): 0.69, D(G(z)): 0.25\n",
      "Epoch [148/300], Step [600/600], d_loss: 0.8776, g_loss: 1.9192, D(x): 0.71, D(G(z)): 0.29\n",
      "Saving fake_images-0149.png\n",
      "Epoch [149/300], Step [200/600], d_loss: 0.8985, g_loss: 1.7107, D(x): 0.70, D(G(z)): 0.29\n",
      "Epoch [149/300], Step [400/600], d_loss: 0.8801, g_loss: 1.5855, D(x): 0.67, D(G(z)): 0.26\n",
      "Epoch [149/300], Step [600/600], d_loss: 0.8662, g_loss: 1.8464, D(x): 0.70, D(G(z)): 0.29\n",
      "Saving fake_images-0150.png\n",
      "Epoch [150/300], Step [200/600], d_loss: 0.8634, g_loss: 1.5074, D(x): 0.73, D(G(z)): 0.33\n",
      "Epoch [150/300], Step [400/600], d_loss: 1.0912, g_loss: 1.5049, D(x): 0.67, D(G(z)): 0.35\n",
      "Epoch [150/300], Step [600/600], d_loss: 0.9581, g_loss: 1.5320, D(x): 0.71, D(G(z)): 0.32\n",
      "Saving fake_images-0151.png\n",
      "Epoch [151/300], Step [200/600], d_loss: 0.8740, g_loss: 1.7212, D(x): 0.71, D(G(z)): 0.29\n",
      "Epoch [151/300], Step [400/600], d_loss: 0.8315, g_loss: 1.6543, D(x): 0.74, D(G(z)): 0.30\n",
      "Epoch [151/300], Step [600/600], d_loss: 1.0064, g_loss: 1.8834, D(x): 0.64, D(G(z)): 0.27\n",
      "Saving fake_images-0152.png\n",
      "Epoch [152/300], Step [200/600], d_loss: 0.8617, g_loss: 1.4570, D(x): 0.75, D(G(z)): 0.33\n",
      "Epoch [152/300], Step [400/600], d_loss: 0.9715, g_loss: 1.2528, D(x): 0.69, D(G(z)): 0.31\n",
      "Epoch [152/300], Step [600/600], d_loss: 0.9137, g_loss: 1.8224, D(x): 0.74, D(G(z)): 0.32\n",
      "Saving fake_images-0153.png\n",
      "Epoch [153/300], Step [200/600], d_loss: 1.0449, g_loss: 1.8844, D(x): 0.76, D(G(z)): 0.42\n",
      "Epoch [153/300], Step [400/600], d_loss: 0.8962, g_loss: 1.6068, D(x): 0.68, D(G(z)): 0.27\n",
      "Epoch [153/300], Step [600/600], d_loss: 0.8864, g_loss: 1.3138, D(x): 0.72, D(G(z)): 0.33\n",
      "Saving fake_images-0154.png\n",
      "Epoch [154/300], Step [200/600], d_loss: 0.8671, g_loss: 1.8308, D(x): 0.68, D(G(z)): 0.23\n",
      "Epoch [154/300], Step [400/600], d_loss: 0.9179, g_loss: 1.6426, D(x): 0.75, D(G(z)): 0.38\n",
      "Epoch [154/300], Step [600/600], d_loss: 0.9364, g_loss: 1.3810, D(x): 0.68, D(G(z)): 0.29\n",
      "Saving fake_images-0155.png\n",
      "Epoch [155/300], Step [200/600], d_loss: 0.9460, g_loss: 1.6236, D(x): 0.69, D(G(z)): 0.29\n",
      "Epoch [155/300], Step [400/600], d_loss: 1.0624, g_loss: 1.6062, D(x): 0.66, D(G(z)): 0.35\n",
      "Epoch [155/300], Step [600/600], d_loss: 1.0256, g_loss: 1.2630, D(x): 0.68, D(G(z)): 0.33\n",
      "Saving fake_images-0156.png\n",
      "Epoch [156/300], Step [200/600], d_loss: 1.1138, g_loss: 0.9739, D(x): 0.68, D(G(z)): 0.39\n",
      "Epoch [156/300], Step [400/600], d_loss: 0.9481, g_loss: 1.5833, D(x): 0.77, D(G(z)): 0.37\n"
     ]
    },
    {
     "ename": "KeyboardInterrupt",
     "evalue": "",
     "output_type": "error",
     "traceback": [
      "\u001B[0;31m---------------------------------------------------------------------------\u001B[0m",
      "\u001B[0;31mKeyboardInterrupt\u001B[0m                         Traceback (most recent call last)",
      "File \u001B[0;32m<timed exec>:6\u001B[0m, in \u001B[0;36m<module>\u001B[0;34m\u001B[0m\n",
      "File \u001B[0;32m~/miniconda3/envs/dl/lib/python3.8/site-packages/torch/utils/data/dataloader.py:645\u001B[0m, in \u001B[0;36m_BaseDataLoaderIter.__next__\u001B[0;34m(self)\u001B[0m\n\u001B[1;32m    642\u001B[0m \u001B[38;5;28;01mif\u001B[39;00m \u001B[38;5;28mself\u001B[39m\u001B[38;5;241m.\u001B[39m_sampler_iter \u001B[38;5;129;01mis\u001B[39;00m \u001B[38;5;28;01mNone\u001B[39;00m:\n\u001B[1;32m    643\u001B[0m     \u001B[38;5;66;03m# TODO(https://github.com/pytorch/pytorch/issues/76750)\u001B[39;00m\n\u001B[1;32m    644\u001B[0m     \u001B[38;5;28mself\u001B[39m\u001B[38;5;241m.\u001B[39m_reset()  \u001B[38;5;66;03m# type: ignore[call-arg]\u001B[39;00m\n\u001B[0;32m--> 645\u001B[0m data \u001B[38;5;241m=\u001B[39m \u001B[38;5;28;43mself\u001B[39;49m\u001B[38;5;241;43m.\u001B[39;49m\u001B[43m_next_data\u001B[49m\u001B[43m(\u001B[49m\u001B[43m)\u001B[49m\n\u001B[1;32m    646\u001B[0m \u001B[38;5;28mself\u001B[39m\u001B[38;5;241m.\u001B[39m_num_yielded \u001B[38;5;241m+\u001B[39m\u001B[38;5;241m=\u001B[39m \u001B[38;5;241m1\u001B[39m\n\u001B[1;32m    647\u001B[0m \u001B[38;5;28;01mif\u001B[39;00m \u001B[38;5;28mself\u001B[39m\u001B[38;5;241m.\u001B[39m_dataset_kind \u001B[38;5;241m==\u001B[39m _DatasetKind\u001B[38;5;241m.\u001B[39mIterable \u001B[38;5;129;01mand\u001B[39;00m \\\n\u001B[1;32m    648\u001B[0m         \u001B[38;5;28mself\u001B[39m\u001B[38;5;241m.\u001B[39m_IterableDataset_len_called \u001B[38;5;129;01mis\u001B[39;00m \u001B[38;5;129;01mnot\u001B[39;00m \u001B[38;5;28;01mNone\u001B[39;00m \u001B[38;5;129;01mand\u001B[39;00m \\\n\u001B[1;32m    649\u001B[0m         \u001B[38;5;28mself\u001B[39m\u001B[38;5;241m.\u001B[39m_num_yielded \u001B[38;5;241m>\u001B[39m \u001B[38;5;28mself\u001B[39m\u001B[38;5;241m.\u001B[39m_IterableDataset_len_called:\n",
      "File \u001B[0;32m~/miniconda3/envs/dl/lib/python3.8/site-packages/torch/utils/data/dataloader.py:683\u001B[0m, in \u001B[0;36m_SingleProcessDataLoaderIter._next_data\u001B[0;34m(self)\u001B[0m\n\u001B[1;32m    681\u001B[0m \u001B[38;5;28;01mdef\u001B[39;00m \u001B[38;5;21m_next_data\u001B[39m(\u001B[38;5;28mself\u001B[39m):\n\u001B[1;32m    682\u001B[0m     index \u001B[38;5;241m=\u001B[39m \u001B[38;5;28mself\u001B[39m\u001B[38;5;241m.\u001B[39m_next_index()  \u001B[38;5;66;03m# may raise StopIteration\u001B[39;00m\n\u001B[0;32m--> 683\u001B[0m     data \u001B[38;5;241m=\u001B[39m \u001B[38;5;28;43mself\u001B[39;49m\u001B[38;5;241;43m.\u001B[39;49m\u001B[43m_dataset_fetcher\u001B[49m\u001B[38;5;241;43m.\u001B[39;49m\u001B[43mfetch\u001B[49m\u001B[43m(\u001B[49m\u001B[43mindex\u001B[49m\u001B[43m)\u001B[49m  \u001B[38;5;66;03m# may raise StopIteration\u001B[39;00m\n\u001B[1;32m    684\u001B[0m     \u001B[38;5;28;01mif\u001B[39;00m \u001B[38;5;28mself\u001B[39m\u001B[38;5;241m.\u001B[39m_pin_memory:\n\u001B[1;32m    685\u001B[0m         data \u001B[38;5;241m=\u001B[39m _utils\u001B[38;5;241m.\u001B[39mpin_memory\u001B[38;5;241m.\u001B[39mpin_memory(data, \u001B[38;5;28mself\u001B[39m\u001B[38;5;241m.\u001B[39m_pin_memory_device)\n",
      "File \u001B[0;32m~/miniconda3/envs/dl/lib/python3.8/site-packages/torch/utils/data/_utils/fetch.py:49\u001B[0m, in \u001B[0;36m_MapDatasetFetcher.fetch\u001B[0;34m(self, possibly_batched_index)\u001B[0m\n\u001B[1;32m     47\u001B[0m \u001B[38;5;28;01mdef\u001B[39;00m \u001B[38;5;21mfetch\u001B[39m(\u001B[38;5;28mself\u001B[39m, possibly_batched_index):\n\u001B[1;32m     48\u001B[0m     \u001B[38;5;28;01mif\u001B[39;00m \u001B[38;5;28mself\u001B[39m\u001B[38;5;241m.\u001B[39mauto_collation:\n\u001B[0;32m---> 49\u001B[0m         data \u001B[38;5;241m=\u001B[39m [\u001B[38;5;28mself\u001B[39m\u001B[38;5;241m.\u001B[39mdataset[idx] \u001B[38;5;28;01mfor\u001B[39;00m idx \u001B[38;5;129;01min\u001B[39;00m possibly_batched_index]\n\u001B[1;32m     50\u001B[0m     \u001B[38;5;28;01melse\u001B[39;00m:\n\u001B[1;32m     51\u001B[0m         data \u001B[38;5;241m=\u001B[39m \u001B[38;5;28mself\u001B[39m\u001B[38;5;241m.\u001B[39mdataset[possibly_batched_index]\n",
      "File \u001B[0;32m~/miniconda3/envs/dl/lib/python3.8/site-packages/torch/utils/data/_utils/fetch.py:49\u001B[0m, in \u001B[0;36m<listcomp>\u001B[0;34m(.0)\u001B[0m\n\u001B[1;32m     47\u001B[0m \u001B[38;5;28;01mdef\u001B[39;00m \u001B[38;5;21mfetch\u001B[39m(\u001B[38;5;28mself\u001B[39m, possibly_batched_index):\n\u001B[1;32m     48\u001B[0m     \u001B[38;5;28;01mif\u001B[39;00m \u001B[38;5;28mself\u001B[39m\u001B[38;5;241m.\u001B[39mauto_collation:\n\u001B[0;32m---> 49\u001B[0m         data \u001B[38;5;241m=\u001B[39m [\u001B[38;5;28;43mself\u001B[39;49m\u001B[38;5;241;43m.\u001B[39;49m\u001B[43mdataset\u001B[49m\u001B[43m[\u001B[49m\u001B[43midx\u001B[49m\u001B[43m]\u001B[49m \u001B[38;5;28;01mfor\u001B[39;00m idx \u001B[38;5;129;01min\u001B[39;00m possibly_batched_index]\n\u001B[1;32m     50\u001B[0m     \u001B[38;5;28;01melse\u001B[39;00m:\n\u001B[1;32m     51\u001B[0m         data \u001B[38;5;241m=\u001B[39m \u001B[38;5;28mself\u001B[39m\u001B[38;5;241m.\u001B[39mdataset[possibly_batched_index]\n",
      "File \u001B[0;32m~/miniconda3/envs/dl/lib/python3.8/site-packages/torchvision/datasets/mnist.py:145\u001B[0m, in \u001B[0;36mMNIST.__getitem__\u001B[0;34m(self, index)\u001B[0m\n\u001B[1;32m    142\u001B[0m img \u001B[38;5;241m=\u001B[39m Image\u001B[38;5;241m.\u001B[39mfromarray(img\u001B[38;5;241m.\u001B[39mnumpy(), mode\u001B[38;5;241m=\u001B[39m\u001B[38;5;124m\"\u001B[39m\u001B[38;5;124mL\u001B[39m\u001B[38;5;124m\"\u001B[39m)\n\u001B[1;32m    144\u001B[0m \u001B[38;5;28;01mif\u001B[39;00m \u001B[38;5;28mself\u001B[39m\u001B[38;5;241m.\u001B[39mtransform \u001B[38;5;129;01mis\u001B[39;00m \u001B[38;5;129;01mnot\u001B[39;00m \u001B[38;5;28;01mNone\u001B[39;00m:\n\u001B[0;32m--> 145\u001B[0m     img \u001B[38;5;241m=\u001B[39m \u001B[38;5;28;43mself\u001B[39;49m\u001B[38;5;241;43m.\u001B[39;49m\u001B[43mtransform\u001B[49m\u001B[43m(\u001B[49m\u001B[43mimg\u001B[49m\u001B[43m)\u001B[49m\n\u001B[1;32m    147\u001B[0m \u001B[38;5;28;01mif\u001B[39;00m \u001B[38;5;28mself\u001B[39m\u001B[38;5;241m.\u001B[39mtarget_transform \u001B[38;5;129;01mis\u001B[39;00m \u001B[38;5;129;01mnot\u001B[39;00m \u001B[38;5;28;01mNone\u001B[39;00m:\n\u001B[1;32m    148\u001B[0m     target \u001B[38;5;241m=\u001B[39m \u001B[38;5;28mself\u001B[39m\u001B[38;5;241m.\u001B[39mtarget_transform(target)\n",
      "File \u001B[0;32m~/miniconda3/envs/dl/lib/python3.8/site-packages/torchvision/transforms/transforms.py:95\u001B[0m, in \u001B[0;36mCompose.__call__\u001B[0;34m(self, img)\u001B[0m\n\u001B[1;32m     93\u001B[0m \u001B[38;5;28;01mdef\u001B[39;00m \u001B[38;5;21m__call__\u001B[39m(\u001B[38;5;28mself\u001B[39m, img):\n\u001B[1;32m     94\u001B[0m     \u001B[38;5;28;01mfor\u001B[39;00m t \u001B[38;5;129;01min\u001B[39;00m \u001B[38;5;28mself\u001B[39m\u001B[38;5;241m.\u001B[39mtransforms:\n\u001B[0;32m---> 95\u001B[0m         img \u001B[38;5;241m=\u001B[39m \u001B[43mt\u001B[49m\u001B[43m(\u001B[49m\u001B[43mimg\u001B[49m\u001B[43m)\u001B[49m\n\u001B[1;32m     96\u001B[0m     \u001B[38;5;28;01mreturn\u001B[39;00m img\n",
      "File \u001B[0;32m~/miniconda3/envs/dl/lib/python3.8/site-packages/torchvision/transforms/transforms.py:135\u001B[0m, in \u001B[0;36mToTensor.__call__\u001B[0;34m(self, pic)\u001B[0m\n\u001B[1;32m    127\u001B[0m \u001B[38;5;28;01mdef\u001B[39;00m \u001B[38;5;21m__call__\u001B[39m(\u001B[38;5;28mself\u001B[39m, pic):\n\u001B[1;32m    128\u001B[0m     \u001B[38;5;124;03m\"\"\"\u001B[39;00m\n\u001B[1;32m    129\u001B[0m \u001B[38;5;124;03m    Args:\u001B[39;00m\n\u001B[1;32m    130\u001B[0m \u001B[38;5;124;03m        pic (PIL Image or numpy.ndarray): Image to be converted to tensor.\u001B[39;00m\n\u001B[0;32m   (...)\u001B[0m\n\u001B[1;32m    133\u001B[0m \u001B[38;5;124;03m        Tensor: Converted image.\u001B[39;00m\n\u001B[1;32m    134\u001B[0m \u001B[38;5;124;03m    \"\"\"\u001B[39;00m\n\u001B[0;32m--> 135\u001B[0m     \u001B[38;5;28;01mreturn\u001B[39;00m \u001B[43mF\u001B[49m\u001B[38;5;241;43m.\u001B[39;49m\u001B[43mto_tensor\u001B[49m\u001B[43m(\u001B[49m\u001B[43mpic\u001B[49m\u001B[43m)\u001B[49m\n",
      "\u001B[0;31mKeyboardInterrupt\u001B[0m: "
     ]
    },
    {
     "name": "stdout",
     "output_type": "stream",
     "text": [
      "Epoch [0/300], Step [200/600], d_loss: 0.0567, g_loss: 4.0526, D(x): 0.99, D(G(z)): 0.04\n",
      "Epoch [0/300], Step [400/600], d_loss: 0.1566, g_loss: 6.0286, D(x): 0.92, D(G(z)): 0.03\n",
      "Epoch [0/300], Step [600/600], d_loss: 0.0435, g_loss: 5.4882, D(x): 0.98, D(G(z)): 0.02\n",
      "Saving fake_images-0001.png\n",
      "Epoch [1/300], Step [200/600], d_loss: 0.1877, g_loss: 3.5919, D(x): 0.96, D(G(z)): 0.13\n",
      "Epoch [1/300], Step [400/600], d_loss: 0.0790, g_loss: 4.1593, D(x): 0.98, D(G(z)): 0.05\n"
     ]
    }
   ],
   "source": [
    "%%time\n",
    "\n",
    "num_epochs = 300\n",
    "total_step = len(data_loader)\n",
    "d_losses, g_losses, real_scores, fake_scores = [], [], [], []\n",
    "\n",
    "for epoch in range(num_epochs):\n",
    "    for i, (images, _) in enumerate(data_loader):\n",
    "        # Load a batch & transform to vectors\n",
    "        images = images.reshape(batch_size, -1).to(device)\n",
    "\n",
    "        # Train the discriminator and generator\n",
    "        d_loss, real_score, fake_score = train_discriminator(images)\n",
    "        g_loss, fake_images = train_generator()\n",
    "\n",
    "        # Inspect the losses\n",
    "        if (i + 1) % 200 == 0:\n",
    "            d_losses.append(d_loss.item())\n",
    "            g_losses.append(g_loss.item())\n",
    "            real_scores.append(real_score.mean().item())\n",
    "            fake_scores.append(fake_score.mean().item())\n",
    "            print('Epoch [{}/{}], Step [{}/{}], d_loss: {:.4f}, g_loss: {:.4f}, D(x): {:.2f}, D(G(z)): {:.2f}'\n",
    "                  .format(epoch, num_epochs, i + 1, total_step, d_loss.item(), g_loss.item(),\n",
    "                          real_score.mean().item(), fake_score.mean().item()))\n",
    "\n",
    "    # Sample and save images\n",
    "    save_fake_images(epoch + 1)"
   ],
   "metadata": {
    "collapsed": false,
    "pycharm": {
     "name": "#%%\n"
    }
   }
  }
 ],
 "metadata": {
  "kernelspec": {
   "display_name": "Python 3",
   "language": "python",
   "name": "python3"
  },
  "language_info": {
   "codemirror_mode": {
    "name": "ipython",
    "version": 2
   },
   "file_extension": ".py",
   "mimetype": "text/x-python",
   "name": "python",
   "nbconvert_exporter": "python",
   "pygments_lexer": "ipython2",
   "version": "2.7.6"
  }
 },
 "nbformat": 4,
 "nbformat_minor": 0
}